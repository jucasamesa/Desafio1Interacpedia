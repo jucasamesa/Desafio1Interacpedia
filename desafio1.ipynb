{
 "cells": [
  {
   "cell_type": "markdown",
   "metadata": {},
   "source": [
    "# Propuesta Desafío TI: ¿Cómo podríamos generar ingresos con los datos actuales que tiene nuestra organización?\n",
    "\n",
    "Para el desafío, se utilizará una base de datos de Telecom, libre al publico (https://www.kaggle.com/becksddf/churn-in-telecoms-dataset/data) que representara dicha información obtenida por la organización. \n",
    "\n",
    "El enfoque planteado en el pitch de talento se divide en un plan de cuatro pasos:\n",
    "1. Revisar la información obtenida. \n",
    "Verificar relaciónd e los datos con el objetivo final y verificar su potencial uso para lograr el objetivo.\n",
    "2. Limpieza de datos. \n",
    "Arreglar la base de datos, limpiar base de datos erróneos y faltantes.\n",
    "3. Análisis de datos.\n",
    "Mediante gráficos, revisión de las variables/columnas y aprendizaje automatizado, se analizará cuál modelo para predicción de abandono de la suscripción o servicio con la empresa es mejor. \n",
    "4. Estrategias para atraer más clientes y/o aumentar las ventas.\n",
    "Según los resultados observados en el análisis de los datos se establecerán estrategias o pautas que le permitan a la compañía obtener rendimientos a partir de dicha información.\n",
    "\n",
    "Para los planes 1 y 2, se utilizan las librerías de pandas, numpy, seaborn y matplotlib. "
   ]
  },
  {
   "cell_type": "code",
   "execution_count": 1,
   "metadata": {},
   "outputs": [],
   "source": [
    "import pandas as pd # procesamiento de datos, CSV file I/O (e.g. pd.read_csv)\n",
    "import numpy as np # manejar matrices\n",
    "import matplotlib as mlp  # graficar data\n",
    "import matplotlib.pyplot as plt  # graficar data\n",
    "import seaborn as sns # graficar data"
   ]
  },
  {
   "cell_type": "markdown",
   "metadata": {},
   "source": [
    "Para los planes 3 y 4, se utiliza adicionalmente la librería que contiene múltiples modelos de aprendizaje automático sklearn."
   ]
  },
  {
   "cell_type": "code",
   "execution_count": 2,
   "metadata": {},
   "outputs": [],
   "source": [
    "import sklearn # aprendizaje automático / machine learning\n",
    "from sklearn import preprocessing # manejar data no numerica \n",
    "from sklearn.model_selection import StratifiedKFold # validación cruzada\n",
    "# Tipo de validación cruzada, es una variación de KFold que retorna pliegues. Los pleigues son realizados a preservar el \n",
    "# porcentaje de muestras para cada clase.\n",
    "from sklearn.model_selection import cross_validate # Técnica utilizada para evaluar los resultados de un análisis estadístico\n",
    "# y garantizar que son independientes de la partición entre datos de entrenamiento y prueba.\n",
    "# https://es.wikipedia.org/wiki/Validación_cruzada\n",
    "# Se utiliza en entornos donde el objetivo principal es la predicción y se quiere estimar la precisión de un modelo que se \n",
    "# llevará a cabo a la práctica.\n",
    "from sklearn.model_selection import cross_val_score # Obtener la puntuación del modelo\n",
    "from sklearn.model_selection import train_test_split # Dividir los datos en datos de entrenamiento y datos de prueba del modelo. \n",
    "from sklearn.model_selection import ShuffleSplit # Permutador aleatorio utilizado en validación cruzada\n",
    "from sklearn.pipeline import make_pipeline # Cosntruye una tipería para los estimadores dados.\n",
    "from sklearn import metrics # Obtener las métricas de los modelos (precision, score, recall, accuracy)"
   ]
  },
  {
   "cell_type": "markdown",
   "metadata": {},
   "source": [
    "Modelos de clasificación utilizados:"
   ]
  },
  {
   "cell_type": "code",
   "execution_count": 3,
   "metadata": {},
   "outputs": [],
   "source": [
    "from sklearn.ensemble import GradientBoostingClassifier # Técnica de Aprendizaje Automático para problemas de clasificación.\n",
    "from sklearn.ensemble import RandomForestClassifier # En muchos problemas el rendimiento del algoritmo random forest es muy\n",
    "# similar a la del boosting, y es más simple de entrenar y ajustar.\n",
    "from sklearn import svm # Support Vector Machine,técnica de Aprendizaje Automático que clasifica en dos grupos los datos.\n",
    "from sklearn import neighbors # k-nearest neighbors algorithm, clasifica según el grupo de datos más cercano.\n",
    "from sklearn import linear_model # Realizar regresión logisttica para predecir verdadero o falso.\n",
    "\n",
    "from sklearn import ensemble # La meta de los métodos de ensamble es combinar las predicción de varios estimadores base dados \n",
    "# con cierto algoritmo de aprendizaje con el fin de mejorar la robustez y generalización sobre un solo estimador."
   ]
  },
  {
   "cell_type": "markdown",
   "metadata": {},
   "source": [
    "# 1. Revisión de los datos"
   ]
  },
  {
   "cell_type": "code",
   "execution_count": 4,
   "metadata": {},
   "outputs": [
    {
     "data": {
      "text/html": [
       "<div>\n",
       "<style scoped>\n",
       "    .dataframe tbody tr th:only-of-type {\n",
       "        vertical-align: middle;\n",
       "    }\n",
       "\n",
       "    .dataframe tbody tr th {\n",
       "        vertical-align: top;\n",
       "    }\n",
       "\n",
       "    .dataframe thead th {\n",
       "        text-align: right;\n",
       "    }\n",
       "</style>\n",
       "<table border=\"1\" class=\"dataframe\">\n",
       "  <thead>\n",
       "    <tr style=\"text-align: right;\">\n",
       "      <th></th>\n",
       "      <th>state</th>\n",
       "      <th>account length</th>\n",
       "      <th>area code</th>\n",
       "      <th>phone number</th>\n",
       "      <th>international plan</th>\n",
       "      <th>voice mail plan</th>\n",
       "      <th>number vmail messages</th>\n",
       "      <th>total day minutes</th>\n",
       "      <th>total day calls</th>\n",
       "      <th>total day charge</th>\n",
       "      <th>...</th>\n",
       "      <th>total eve calls</th>\n",
       "      <th>total eve charge</th>\n",
       "      <th>total night minutes</th>\n",
       "      <th>total night calls</th>\n",
       "      <th>total night charge</th>\n",
       "      <th>total intl minutes</th>\n",
       "      <th>total intl calls</th>\n",
       "      <th>total intl charge</th>\n",
       "      <th>customer service calls</th>\n",
       "      <th>churn</th>\n",
       "    </tr>\n",
       "  </thead>\n",
       "  <tbody>\n",
       "    <tr>\n",
       "      <th>0</th>\n",
       "      <td>KS</td>\n",
       "      <td>128</td>\n",
       "      <td>415</td>\n",
       "      <td>382-4657</td>\n",
       "      <td>no</td>\n",
       "      <td>yes</td>\n",
       "      <td>25</td>\n",
       "      <td>265.1</td>\n",
       "      <td>110</td>\n",
       "      <td>45.07</td>\n",
       "      <td>...</td>\n",
       "      <td>99</td>\n",
       "      <td>16.78</td>\n",
       "      <td>244.7</td>\n",
       "      <td>91</td>\n",
       "      <td>11.01</td>\n",
       "      <td>10.0</td>\n",
       "      <td>3</td>\n",
       "      <td>2.70</td>\n",
       "      <td>1</td>\n",
       "      <td>False</td>\n",
       "    </tr>\n",
       "    <tr>\n",
       "      <th>1</th>\n",
       "      <td>OH</td>\n",
       "      <td>107</td>\n",
       "      <td>415</td>\n",
       "      <td>371-7191</td>\n",
       "      <td>no</td>\n",
       "      <td>yes</td>\n",
       "      <td>26</td>\n",
       "      <td>161.6</td>\n",
       "      <td>123</td>\n",
       "      <td>27.47</td>\n",
       "      <td>...</td>\n",
       "      <td>103</td>\n",
       "      <td>16.62</td>\n",
       "      <td>254.4</td>\n",
       "      <td>103</td>\n",
       "      <td>11.45</td>\n",
       "      <td>13.7</td>\n",
       "      <td>3</td>\n",
       "      <td>3.70</td>\n",
       "      <td>1</td>\n",
       "      <td>False</td>\n",
       "    </tr>\n",
       "    <tr>\n",
       "      <th>2</th>\n",
       "      <td>NJ</td>\n",
       "      <td>137</td>\n",
       "      <td>415</td>\n",
       "      <td>358-1921</td>\n",
       "      <td>no</td>\n",
       "      <td>no</td>\n",
       "      <td>0</td>\n",
       "      <td>243.4</td>\n",
       "      <td>114</td>\n",
       "      <td>41.38</td>\n",
       "      <td>...</td>\n",
       "      <td>110</td>\n",
       "      <td>10.30</td>\n",
       "      <td>162.6</td>\n",
       "      <td>104</td>\n",
       "      <td>7.32</td>\n",
       "      <td>12.2</td>\n",
       "      <td>5</td>\n",
       "      <td>3.29</td>\n",
       "      <td>0</td>\n",
       "      <td>False</td>\n",
       "    </tr>\n",
       "    <tr>\n",
       "      <th>3</th>\n",
       "      <td>OH</td>\n",
       "      <td>84</td>\n",
       "      <td>408</td>\n",
       "      <td>375-9999</td>\n",
       "      <td>yes</td>\n",
       "      <td>no</td>\n",
       "      <td>0</td>\n",
       "      <td>299.4</td>\n",
       "      <td>71</td>\n",
       "      <td>50.90</td>\n",
       "      <td>...</td>\n",
       "      <td>88</td>\n",
       "      <td>5.26</td>\n",
       "      <td>196.9</td>\n",
       "      <td>89</td>\n",
       "      <td>8.86</td>\n",
       "      <td>6.6</td>\n",
       "      <td>7</td>\n",
       "      <td>1.78</td>\n",
       "      <td>2</td>\n",
       "      <td>False</td>\n",
       "    </tr>\n",
       "    <tr>\n",
       "      <th>4</th>\n",
       "      <td>OK</td>\n",
       "      <td>75</td>\n",
       "      <td>415</td>\n",
       "      <td>330-6626</td>\n",
       "      <td>yes</td>\n",
       "      <td>no</td>\n",
       "      <td>0</td>\n",
       "      <td>166.7</td>\n",
       "      <td>113</td>\n",
       "      <td>28.34</td>\n",
       "      <td>...</td>\n",
       "      <td>122</td>\n",
       "      <td>12.61</td>\n",
       "      <td>186.9</td>\n",
       "      <td>121</td>\n",
       "      <td>8.41</td>\n",
       "      <td>10.1</td>\n",
       "      <td>3</td>\n",
       "      <td>2.73</td>\n",
       "      <td>3</td>\n",
       "      <td>False</td>\n",
       "    </tr>\n",
       "  </tbody>\n",
       "</table>\n",
       "<p>5 rows × 21 columns</p>\n",
       "</div>"
      ],
      "text/plain": [
       "  state  account length  area code phone number international plan  \\\n",
       "0    KS             128        415     382-4657                 no   \n",
       "1    OH             107        415     371-7191                 no   \n",
       "2    NJ             137        415     358-1921                 no   \n",
       "3    OH              84        408     375-9999                yes   \n",
       "4    OK              75        415     330-6626                yes   \n",
       "\n",
       "  voice mail plan  number vmail messages  total day minutes  total day calls  \\\n",
       "0             yes                     25              265.1              110   \n",
       "1             yes                     26              161.6              123   \n",
       "2              no                      0              243.4              114   \n",
       "3              no                      0              299.4               71   \n",
       "4              no                      0              166.7              113   \n",
       "\n",
       "   total day charge  ...  total eve calls  total eve charge  \\\n",
       "0             45.07  ...               99             16.78   \n",
       "1             27.47  ...              103             16.62   \n",
       "2             41.38  ...              110             10.30   \n",
       "3             50.90  ...               88              5.26   \n",
       "4             28.34  ...              122             12.61   \n",
       "\n",
       "   total night minutes  total night calls  total night charge  \\\n",
       "0                244.7                 91               11.01   \n",
       "1                254.4                103               11.45   \n",
       "2                162.6                104                7.32   \n",
       "3                196.9                 89                8.86   \n",
       "4                186.9                121                8.41   \n",
       "\n",
       "   total intl minutes  total intl calls  total intl charge  \\\n",
       "0                10.0                 3               2.70   \n",
       "1                13.7                 3               3.70   \n",
       "2                12.2                 5               3.29   \n",
       "3                 6.6                 7               1.78   \n",
       "4                10.1                 3               2.73   \n",
       "\n",
       "   customer service calls  churn  \n",
       "0                       1  False  \n",
       "1                       1  False  \n",
       "2                       0  False  \n",
       "3                       2  False  \n",
       "4                       3  False  \n",
       "\n",
       "[5 rows x 21 columns]"
      ]
     },
     "execution_count": 4,
     "metadata": {},
     "output_type": "execute_result"
    }
   ],
   "source": [
    "df = pd.read_csv(r\"D:\\Escritorio2\\1. Juan Carlos Salazar Mesa\\2. Interacpedia\\Desafio 1\\bdTelecom.csv\", header=0)\n",
    "df.head()"
   ]
  },
  {
   "cell_type": "code",
   "execution_count": 5,
   "metadata": {},
   "outputs": [
    {
     "name": "stdout",
     "output_type": "stream",
     "text": [
      "<class 'pandas.core.frame.DataFrame'>\n",
      "RangeIndex: 3333 entries, 0 to 3332\n",
      "Data columns (total 21 columns):\n",
      " #   Column                  Non-Null Count  Dtype  \n",
      "---  ------                  --------------  -----  \n",
      " 0   state                   3333 non-null   object \n",
      " 1   account length          3333 non-null   int64  \n",
      " 2   area code               3333 non-null   int64  \n",
      " 3   phone number            3333 non-null   object \n",
      " 4   international plan      3333 non-null   object \n",
      " 5   voice mail plan         3333 non-null   object \n",
      " 6   number vmail messages   3333 non-null   int64  \n",
      " 7   total day minutes       3333 non-null   float64\n",
      " 8   total day calls         3333 non-null   int64  \n",
      " 9   total day charge        3333 non-null   float64\n",
      " 10  total eve minutes       3333 non-null   float64\n",
      " 11  total eve calls         3333 non-null   int64  \n",
      " 12  total eve charge        3333 non-null   float64\n",
      " 13  total night minutes     3333 non-null   float64\n",
      " 14  total night calls       3333 non-null   int64  \n",
      " 15  total night charge      3333 non-null   float64\n",
      " 16  total intl minutes      3333 non-null   float64\n",
      " 17  total intl calls        3333 non-null   int64  \n",
      " 18  total intl charge       3333 non-null   float64\n",
      " 19  customer service calls  3333 non-null   int64  \n",
      " 20  churn                   3333 non-null   bool   \n",
      "dtypes: bool(1), float64(8), int64(8), object(4)\n",
      "memory usage: 524.2+ KB\n"
     ]
    }
   ],
   "source": [
    "df.info()"
   ]
  },
  {
   "cell_type": "markdown",
   "metadata": {},
   "source": [
    "La base de datos utilizada está completa ya que no tiene valores nulos. Pero de todas formas se utilizará el método describe() para revisar que los valores numéricos sean congruentes."
   ]
  },
  {
   "cell_type": "code",
   "execution_count": 6,
   "metadata": {},
   "outputs": [
    {
     "data": {
      "text/html": [
       "<div>\n",
       "<style scoped>\n",
       "    .dataframe tbody tr th:only-of-type {\n",
       "        vertical-align: middle;\n",
       "    }\n",
       "\n",
       "    .dataframe tbody tr th {\n",
       "        vertical-align: top;\n",
       "    }\n",
       "\n",
       "    .dataframe thead th {\n",
       "        text-align: right;\n",
       "    }\n",
       "</style>\n",
       "<table border=\"1\" class=\"dataframe\">\n",
       "  <thead>\n",
       "    <tr style=\"text-align: right;\">\n",
       "      <th></th>\n",
       "      <th>account length</th>\n",
       "      <th>area code</th>\n",
       "      <th>number vmail messages</th>\n",
       "      <th>total day minutes</th>\n",
       "      <th>total day calls</th>\n",
       "      <th>total day charge</th>\n",
       "      <th>total eve minutes</th>\n",
       "      <th>total eve calls</th>\n",
       "      <th>total eve charge</th>\n",
       "      <th>total night minutes</th>\n",
       "      <th>total night calls</th>\n",
       "      <th>total night charge</th>\n",
       "      <th>total intl minutes</th>\n",
       "      <th>total intl calls</th>\n",
       "      <th>total intl charge</th>\n",
       "      <th>customer service calls</th>\n",
       "    </tr>\n",
       "  </thead>\n",
       "  <tbody>\n",
       "    <tr>\n",
       "      <th>count</th>\n",
       "      <td>3333.000000</td>\n",
       "      <td>3333.000000</td>\n",
       "      <td>3333.000000</td>\n",
       "      <td>3333.000000</td>\n",
       "      <td>3333.000000</td>\n",
       "      <td>3333.000000</td>\n",
       "      <td>3333.000000</td>\n",
       "      <td>3333.000000</td>\n",
       "      <td>3333.000000</td>\n",
       "      <td>3333.000000</td>\n",
       "      <td>3333.000000</td>\n",
       "      <td>3333.000000</td>\n",
       "      <td>3333.000000</td>\n",
       "      <td>3333.000000</td>\n",
       "      <td>3333.000000</td>\n",
       "      <td>3333.000000</td>\n",
       "    </tr>\n",
       "    <tr>\n",
       "      <th>mean</th>\n",
       "      <td>101.064806</td>\n",
       "      <td>437.182418</td>\n",
       "      <td>8.099010</td>\n",
       "      <td>179.775098</td>\n",
       "      <td>100.435644</td>\n",
       "      <td>30.562307</td>\n",
       "      <td>200.980348</td>\n",
       "      <td>100.114311</td>\n",
       "      <td>17.083540</td>\n",
       "      <td>200.872037</td>\n",
       "      <td>100.107711</td>\n",
       "      <td>9.039325</td>\n",
       "      <td>10.237294</td>\n",
       "      <td>4.479448</td>\n",
       "      <td>2.764581</td>\n",
       "      <td>1.562856</td>\n",
       "    </tr>\n",
       "    <tr>\n",
       "      <th>std</th>\n",
       "      <td>39.822106</td>\n",
       "      <td>42.371290</td>\n",
       "      <td>13.688365</td>\n",
       "      <td>54.467389</td>\n",
       "      <td>20.069084</td>\n",
       "      <td>9.259435</td>\n",
       "      <td>50.713844</td>\n",
       "      <td>19.922625</td>\n",
       "      <td>4.310668</td>\n",
       "      <td>50.573847</td>\n",
       "      <td>19.568609</td>\n",
       "      <td>2.275873</td>\n",
       "      <td>2.791840</td>\n",
       "      <td>2.461214</td>\n",
       "      <td>0.753773</td>\n",
       "      <td>1.315491</td>\n",
       "    </tr>\n",
       "    <tr>\n",
       "      <th>min</th>\n",
       "      <td>1.000000</td>\n",
       "      <td>408.000000</td>\n",
       "      <td>0.000000</td>\n",
       "      <td>0.000000</td>\n",
       "      <td>0.000000</td>\n",
       "      <td>0.000000</td>\n",
       "      <td>0.000000</td>\n",
       "      <td>0.000000</td>\n",
       "      <td>0.000000</td>\n",
       "      <td>23.200000</td>\n",
       "      <td>33.000000</td>\n",
       "      <td>1.040000</td>\n",
       "      <td>0.000000</td>\n",
       "      <td>0.000000</td>\n",
       "      <td>0.000000</td>\n",
       "      <td>0.000000</td>\n",
       "    </tr>\n",
       "    <tr>\n",
       "      <th>25%</th>\n",
       "      <td>74.000000</td>\n",
       "      <td>408.000000</td>\n",
       "      <td>0.000000</td>\n",
       "      <td>143.700000</td>\n",
       "      <td>87.000000</td>\n",
       "      <td>24.430000</td>\n",
       "      <td>166.600000</td>\n",
       "      <td>87.000000</td>\n",
       "      <td>14.160000</td>\n",
       "      <td>167.000000</td>\n",
       "      <td>87.000000</td>\n",
       "      <td>7.520000</td>\n",
       "      <td>8.500000</td>\n",
       "      <td>3.000000</td>\n",
       "      <td>2.300000</td>\n",
       "      <td>1.000000</td>\n",
       "    </tr>\n",
       "    <tr>\n",
       "      <th>50%</th>\n",
       "      <td>101.000000</td>\n",
       "      <td>415.000000</td>\n",
       "      <td>0.000000</td>\n",
       "      <td>179.400000</td>\n",
       "      <td>101.000000</td>\n",
       "      <td>30.500000</td>\n",
       "      <td>201.400000</td>\n",
       "      <td>100.000000</td>\n",
       "      <td>17.120000</td>\n",
       "      <td>201.200000</td>\n",
       "      <td>100.000000</td>\n",
       "      <td>9.050000</td>\n",
       "      <td>10.300000</td>\n",
       "      <td>4.000000</td>\n",
       "      <td>2.780000</td>\n",
       "      <td>1.000000</td>\n",
       "    </tr>\n",
       "    <tr>\n",
       "      <th>75%</th>\n",
       "      <td>127.000000</td>\n",
       "      <td>510.000000</td>\n",
       "      <td>20.000000</td>\n",
       "      <td>216.400000</td>\n",
       "      <td>114.000000</td>\n",
       "      <td>36.790000</td>\n",
       "      <td>235.300000</td>\n",
       "      <td>114.000000</td>\n",
       "      <td>20.000000</td>\n",
       "      <td>235.300000</td>\n",
       "      <td>113.000000</td>\n",
       "      <td>10.590000</td>\n",
       "      <td>12.100000</td>\n",
       "      <td>6.000000</td>\n",
       "      <td>3.270000</td>\n",
       "      <td>2.000000</td>\n",
       "    </tr>\n",
       "    <tr>\n",
       "      <th>max</th>\n",
       "      <td>243.000000</td>\n",
       "      <td>510.000000</td>\n",
       "      <td>51.000000</td>\n",
       "      <td>350.800000</td>\n",
       "      <td>165.000000</td>\n",
       "      <td>59.640000</td>\n",
       "      <td>363.700000</td>\n",
       "      <td>170.000000</td>\n",
       "      <td>30.910000</td>\n",
       "      <td>395.000000</td>\n",
       "      <td>175.000000</td>\n",
       "      <td>17.770000</td>\n",
       "      <td>20.000000</td>\n",
       "      <td>20.000000</td>\n",
       "      <td>5.400000</td>\n",
       "      <td>9.000000</td>\n",
       "    </tr>\n",
       "  </tbody>\n",
       "</table>\n",
       "</div>"
      ],
      "text/plain": [
       "       account length    area code  number vmail messages  total day minutes  \\\n",
       "count     3333.000000  3333.000000            3333.000000        3333.000000   \n",
       "mean       101.064806   437.182418               8.099010         179.775098   \n",
       "std         39.822106    42.371290              13.688365          54.467389   \n",
       "min          1.000000   408.000000               0.000000           0.000000   \n",
       "25%         74.000000   408.000000               0.000000         143.700000   \n",
       "50%        101.000000   415.000000               0.000000         179.400000   \n",
       "75%        127.000000   510.000000              20.000000         216.400000   \n",
       "max        243.000000   510.000000              51.000000         350.800000   \n",
       "\n",
       "       total day calls  total day charge  total eve minutes  total eve calls  \\\n",
       "count      3333.000000       3333.000000        3333.000000      3333.000000   \n",
       "mean        100.435644         30.562307         200.980348       100.114311   \n",
       "std          20.069084          9.259435          50.713844        19.922625   \n",
       "min           0.000000          0.000000           0.000000         0.000000   \n",
       "25%          87.000000         24.430000         166.600000        87.000000   \n",
       "50%         101.000000         30.500000         201.400000       100.000000   \n",
       "75%         114.000000         36.790000         235.300000       114.000000   \n",
       "max         165.000000         59.640000         363.700000       170.000000   \n",
       "\n",
       "       total eve charge  total night minutes  total night calls  \\\n",
       "count       3333.000000          3333.000000        3333.000000   \n",
       "mean          17.083540           200.872037         100.107711   \n",
       "std            4.310668            50.573847          19.568609   \n",
       "min            0.000000            23.200000          33.000000   \n",
       "25%           14.160000           167.000000          87.000000   \n",
       "50%           17.120000           201.200000         100.000000   \n",
       "75%           20.000000           235.300000         113.000000   \n",
       "max           30.910000           395.000000         175.000000   \n",
       "\n",
       "       total night charge  total intl minutes  total intl calls  \\\n",
       "count         3333.000000         3333.000000       3333.000000   \n",
       "mean             9.039325           10.237294          4.479448   \n",
       "std              2.275873            2.791840          2.461214   \n",
       "min              1.040000            0.000000          0.000000   \n",
       "25%              7.520000            8.500000          3.000000   \n",
       "50%              9.050000           10.300000          4.000000   \n",
       "75%             10.590000           12.100000          6.000000   \n",
       "max             17.770000           20.000000         20.000000   \n",
       "\n",
       "       total intl charge  customer service calls  \n",
       "count        3333.000000             3333.000000  \n",
       "mean            2.764581                1.562856  \n",
       "std             0.753773                1.315491  \n",
       "min             0.000000                0.000000  \n",
       "25%             2.300000                1.000000  \n",
       "50%             2.780000                1.000000  \n",
       "75%             3.270000                2.000000  \n",
       "max             5.400000                9.000000  "
      ]
     },
     "execution_count": 6,
     "metadata": {},
     "output_type": "execute_result"
    }
   ],
   "source": [
    "df.describe()"
   ]
  },
  {
   "cell_type": "markdown",
   "metadata": {},
   "source": [
    "Luego de revisar las columnas numéricas y no numéricas, se puede concluir qué la base de datos está limpia y completa. Por lo que se puede continuar al análisis de las columnas y la relación entre ellas. \n",
    "\n",
    "Estos análisis se enfocaran a la columna principal \"churn\" que significa abandono y me informa si el usuario continúa o no vinculado con los servicios. "
   ]
  },
  {
   "cell_type": "code",
   "execution_count": 7,
   "metadata": {},
   "outputs": [
    {
     "data": {
      "text/plain": [
       "51"
      ]
     },
     "execution_count": 7,
     "metadata": {},
     "output_type": "execute_result"
    }
   ],
   "source": [
    "df[\"state\"].nunique() # numero de estados"
   ]
  },
  {
   "cell_type": "code",
   "execution_count": 8,
   "metadata": {},
   "outputs": [
    {
     "data": {
      "text/plain": [
       "<matplotlib.axes._subplots.AxesSubplot at 0xec2b886608>"
      ]
     },
     "execution_count": 8,
     "metadata": {},
     "output_type": "execute_result"
    },
    {
     "data": {
      "image/png": "[encoded data removed]",
      "text/plain": [
       "<Figure size 432x288 with 1 Axes>"
      ]
     },
     "metadata": {
      "needs_background": "light"
     },
     "output_type": "display_data"
    }
   ],
   "source": [
    "abandono = df[\"churn\"].value_counts()\n",
    "#print(abandono)\n",
    "sns.barplot(abandono.index, abandono.values)"
   ]
  },
  {
   "cell_type": "code",
   "execution_count": 9,
   "metadata": {},
   "outputs": [
    {
     "name": "stdout",
     "output_type": "stream",
     "text": [
      "False    2850\n",
      "True      483\n",
      "Name: churn, dtype: int64\n",
      "10    True\n",
      "15    True\n",
      "21    True\n",
      "33    True\n",
      "41    True\n",
      "Name: churn, dtype: bool\n",
      "Porcentaje de abandono = 14.491449144914492\n"
     ]
    }
   ],
   "source": [
    "print(abandono)\n",
    "y_True = df[\"churn\"][df[\"churn\"] == True] \n",
    "# crea una base de datos que cumpla la condición de usuario que abandonó la suscripción\n",
    "print(y_True.head())\n",
    "print(\"Porcentaje de abandono = \"+str( (y_True.shape[0] / df[\"churn\"].shape[0]) * 100 ))"
   ]
  },
  {
   "cell_type": "code",
   "execution_count": 10,
   "metadata": {},
   "outputs": [],
   "source": [
    "def porc_abandono(df):\n",
    "    df['F'] = df.iloc[:, [0]]\n",
    "    df['T'] = df.iloc[:, [1]]\n",
    "    df['Total'] = df['F'] + df['T']\n",
    "    df['Abandono'] = (df['T'] / df['Total'])*100      "
   ]
  },
  {
   "cell_type": "markdown",
   "metadata": {},
   "source": [
    "Se puede concluir que los datos estan desbalanceados, ya que solamente 14.49% de los datos pertenecen a los usuarios que abandonaron. Ahora se revisará si esta tasa de abandono depende de otras variables como el estado de recidencia del usuario ya que podria indicar cambios en la señal. También se comparará el abandono según el código de área, si posee un plan internacional o plan de voz. "
   ]
  },
  {
   "cell_type": "code",
   "execution_count": 11,
   "metadata": {},
   "outputs": [
    {
     "data": {
      "text/plain": [
       "<matplotlib.axes._subplots.AxesSubplot at 0xec2c2fdf48>"
      ]
     },
     "execution_count": 11,
     "metadata": {},
     "output_type": "execute_result"
    },
    {
     "data": {
      "image/png": "[encoded data removed]",
      "text/plain": [
       "<Figure size 2160x720 with 1 Axes>"
      ]
     },
     "metadata": {
      "needs_background": "light"
     },
     "output_type": "display_data"
    }
   ],
   "source": [
    "df.groupby([\"state\", \"churn\"]).size().unstack().plot(kind='bar', stacked=True, figsize=(30,10)) "
   ]
  },
  {
   "cell_type": "code",
   "execution_count": 12,
   "metadata": {},
   "outputs": [
    {
     "data": {
      "text/html": [
       "<div>\n",
       "<style scoped>\n",
       "    .dataframe tbody tr th:only-of-type {\n",
       "        vertical-align: middle;\n",
       "    }\n",
       "\n",
       "    .dataframe tbody tr th {\n",
       "        vertical-align: top;\n",
       "    }\n",
       "\n",
       "    .dataframe thead th {\n",
       "        text-align: right;\n",
       "    }\n",
       "</style>\n",
       "<table border=\"1\" class=\"dataframe\">\n",
       "  <thead>\n",
       "    <tr style=\"text-align: right;\">\n",
       "      <th>churn</th>\n",
       "      <th>False</th>\n",
       "      <th>True</th>\n",
       "      <th>F</th>\n",
       "      <th>T</th>\n",
       "      <th>Total</th>\n",
       "      <th>Abandono</th>\n",
       "    </tr>\n",
       "    <tr>\n",
       "      <th>state</th>\n",
       "      <th></th>\n",
       "      <th></th>\n",
       "      <th></th>\n",
       "      <th></th>\n",
       "      <th></th>\n",
       "      <th></th>\n",
       "    </tr>\n",
       "  </thead>\n",
       "  <tbody>\n",
       "    <tr>\n",
       "      <th>HI</th>\n",
       "      <td>50</td>\n",
       "      <td>3</td>\n",
       "      <td>50</td>\n",
       "      <td>3</td>\n",
       "      <td>53</td>\n",
       "      <td>5.660377</td>\n",
       "    </tr>\n",
       "    <tr>\n",
       "      <th>AK</th>\n",
       "      <td>49</td>\n",
       "      <td>3</td>\n",
       "      <td>49</td>\n",
       "      <td>3</td>\n",
       "      <td>52</td>\n",
       "      <td>5.769231</td>\n",
       "    </tr>\n",
       "    <tr>\n",
       "      <th>AZ</th>\n",
       "      <td>60</td>\n",
       "      <td>4</td>\n",
       "      <td>60</td>\n",
       "      <td>4</td>\n",
       "      <td>64</td>\n",
       "      <td>6.250000</td>\n",
       "    </tr>\n",
       "    <tr>\n",
       "      <th>VA</th>\n",
       "      <td>72</td>\n",
       "      <td>5</td>\n",
       "      <td>72</td>\n",
       "      <td>5</td>\n",
       "      <td>77</td>\n",
       "      <td>6.493506</td>\n",
       "    </tr>\n",
       "    <tr>\n",
       "      <th>IA</th>\n",
       "      <td>41</td>\n",
       "      <td>3</td>\n",
       "      <td>41</td>\n",
       "      <td>3</td>\n",
       "      <td>44</td>\n",
       "      <td>6.818182</td>\n",
       "    </tr>\n",
       "    <tr>\n",
       "      <th>LA</th>\n",
       "      <td>47</td>\n",
       "      <td>4</td>\n",
       "      <td>47</td>\n",
       "      <td>4</td>\n",
       "      <td>51</td>\n",
       "      <td>7.843137</td>\n",
       "    </tr>\n",
       "    <tr>\n",
       "      <th>NE</th>\n",
       "      <td>56</td>\n",
       "      <td>5</td>\n",
       "      <td>56</td>\n",
       "      <td>5</td>\n",
       "      <td>61</td>\n",
       "      <td>8.196721</td>\n",
       "    </tr>\n",
       "    <tr>\n",
       "      <th>IL</th>\n",
       "      <td>53</td>\n",
       "      <td>5</td>\n",
       "      <td>53</td>\n",
       "      <td>5</td>\n",
       "      <td>58</td>\n",
       "      <td>8.620690</td>\n",
       "    </tr>\n",
       "    <tr>\n",
       "      <th>WI</th>\n",
       "      <td>71</td>\n",
       "      <td>7</td>\n",
       "      <td>71</td>\n",
       "      <td>7</td>\n",
       "      <td>78</td>\n",
       "      <td>8.974359</td>\n",
       "    </tr>\n",
       "    <tr>\n",
       "      <th>RI</th>\n",
       "      <td>59</td>\n",
       "      <td>6</td>\n",
       "      <td>59</td>\n",
       "      <td>6</td>\n",
       "      <td>65</td>\n",
       "      <td>9.230769</td>\n",
       "    </tr>\n",
       "    <tr>\n",
       "      <th>DC</th>\n",
       "      <td>49</td>\n",
       "      <td>5</td>\n",
       "      <td>49</td>\n",
       "      <td>5</td>\n",
       "      <td>54</td>\n",
       "      <td>9.259259</td>\n",
       "    </tr>\n",
       "    <tr>\n",
       "      <th>TN</th>\n",
       "      <td>48</td>\n",
       "      <td>5</td>\n",
       "      <td>48</td>\n",
       "      <td>5</td>\n",
       "      <td>53</td>\n",
       "      <td>9.433962</td>\n",
       "    </tr>\n",
       "    <tr>\n",
       "      <th>WV</th>\n",
       "      <td>96</td>\n",
       "      <td>10</td>\n",
       "      <td>96</td>\n",
       "      <td>10</td>\n",
       "      <td>106</td>\n",
       "      <td>9.433962</td>\n",
       "    </tr>\n",
       "    <tr>\n",
       "      <th>NM</th>\n",
       "      <td>56</td>\n",
       "      <td>6</td>\n",
       "      <td>56</td>\n",
       "      <td>6</td>\n",
       "      <td>62</td>\n",
       "      <td>9.677419</td>\n",
       "    </tr>\n",
       "    <tr>\n",
       "      <th>ND</th>\n",
       "      <td>56</td>\n",
       "      <td>6</td>\n",
       "      <td>56</td>\n",
       "      <td>6</td>\n",
       "      <td>62</td>\n",
       "      <td>9.677419</td>\n",
       "    </tr>\n",
       "    <tr>\n",
       "      <th>AL</th>\n",
       "      <td>72</td>\n",
       "      <td>8</td>\n",
       "      <td>72</td>\n",
       "      <td>8</td>\n",
       "      <td>80</td>\n",
       "      <td>10.000000</td>\n",
       "    </tr>\n",
       "    <tr>\n",
       "      <th>VT</th>\n",
       "      <td>65</td>\n",
       "      <td>8</td>\n",
       "      <td>65</td>\n",
       "      <td>8</td>\n",
       "      <td>73</td>\n",
       "      <td>10.958904</td>\n",
       "    </tr>\n",
       "    <tr>\n",
       "      <th>MO</th>\n",
       "      <td>56</td>\n",
       "      <td>7</td>\n",
       "      <td>56</td>\n",
       "      <td>7</td>\n",
       "      <td>63</td>\n",
       "      <td>11.111111</td>\n",
       "    </tr>\n",
       "    <tr>\n",
       "      <th>WY</th>\n",
       "      <td>68</td>\n",
       "      <td>9</td>\n",
       "      <td>68</td>\n",
       "      <td>9</td>\n",
       "      <td>77</td>\n",
       "      <td>11.688312</td>\n",
       "    </tr>\n",
       "    <tr>\n",
       "      <th>ID</th>\n",
       "      <td>64</td>\n",
       "      <td>9</td>\n",
       "      <td>64</td>\n",
       "      <td>9</td>\n",
       "      <td>73</td>\n",
       "      <td>12.328767</td>\n",
       "    </tr>\n",
       "    <tr>\n",
       "      <th>IN</th>\n",
       "      <td>62</td>\n",
       "      <td>9</td>\n",
       "      <td>62</td>\n",
       "      <td>9</td>\n",
       "      <td>71</td>\n",
       "      <td>12.676056</td>\n",
       "    </tr>\n",
       "    <tr>\n",
       "      <th>FL</th>\n",
       "      <td>55</td>\n",
       "      <td>8</td>\n",
       "      <td>55</td>\n",
       "      <td>8</td>\n",
       "      <td>63</td>\n",
       "      <td>12.698413</td>\n",
       "    </tr>\n",
       "    <tr>\n",
       "      <th>OH</th>\n",
       "      <td>68</td>\n",
       "      <td>10</td>\n",
       "      <td>68</td>\n",
       "      <td>10</td>\n",
       "      <td>78</td>\n",
       "      <td>12.820513</td>\n",
       "    </tr>\n",
       "    <tr>\n",
       "      <th>SD</th>\n",
       "      <td>52</td>\n",
       "      <td>8</td>\n",
       "      <td>52</td>\n",
       "      <td>8</td>\n",
       "      <td>60</td>\n",
       "      <td>13.333333</td>\n",
       "    </tr>\n",
       "    <tr>\n",
       "      <th>KY</th>\n",
       "      <td>51</td>\n",
       "      <td>8</td>\n",
       "      <td>51</td>\n",
       "      <td>8</td>\n",
       "      <td>59</td>\n",
       "      <td>13.559322</td>\n",
       "    </tr>\n",
       "    <tr>\n",
       "      <th>CO</th>\n",
       "      <td>57</td>\n",
       "      <td>9</td>\n",
       "      <td>57</td>\n",
       "      <td>9</td>\n",
       "      <td>66</td>\n",
       "      <td>13.636364</td>\n",
       "    </tr>\n",
       "    <tr>\n",
       "      <th>UT</th>\n",
       "      <td>62</td>\n",
       "      <td>10</td>\n",
       "      <td>62</td>\n",
       "      <td>10</td>\n",
       "      <td>72</td>\n",
       "      <td>13.888889</td>\n",
       "    </tr>\n",
       "    <tr>\n",
       "      <th>OR</th>\n",
       "      <td>67</td>\n",
       "      <td>11</td>\n",
       "      <td>67</td>\n",
       "      <td>11</td>\n",
       "      <td>78</td>\n",
       "      <td>14.102564</td>\n",
       "    </tr>\n",
       "    <tr>\n",
       "      <th>OK</th>\n",
       "      <td>52</td>\n",
       "      <td>9</td>\n",
       "      <td>52</td>\n",
       "      <td>9</td>\n",
       "      <td>61</td>\n",
       "      <td>14.754098</td>\n",
       "    </tr>\n",
       "    <tr>\n",
       "      <th>DE</th>\n",
       "      <td>52</td>\n",
       "      <td>9</td>\n",
       "      <td>52</td>\n",
       "      <td>9</td>\n",
       "      <td>61</td>\n",
       "      <td>14.754098</td>\n",
       "    </tr>\n",
       "    <tr>\n",
       "      <th>GA</th>\n",
       "      <td>46</td>\n",
       "      <td>8</td>\n",
       "      <td>46</td>\n",
       "      <td>8</td>\n",
       "      <td>54</td>\n",
       "      <td>14.814815</td>\n",
       "    </tr>\n",
       "    <tr>\n",
       "      <th>NH</th>\n",
       "      <td>47</td>\n",
       "      <td>9</td>\n",
       "      <td>47</td>\n",
       "      <td>9</td>\n",
       "      <td>56</td>\n",
       "      <td>16.071429</td>\n",
       "    </tr>\n",
       "    <tr>\n",
       "      <th>NC</th>\n",
       "      <td>57</td>\n",
       "      <td>11</td>\n",
       "      <td>57</td>\n",
       "      <td>11</td>\n",
       "      <td>68</td>\n",
       "      <td>16.176471</td>\n",
       "    </tr>\n",
       "    <tr>\n",
       "      <th>CT</th>\n",
       "      <td>62</td>\n",
       "      <td>12</td>\n",
       "      <td>62</td>\n",
       "      <td>12</td>\n",
       "      <td>74</td>\n",
       "      <td>16.216216</td>\n",
       "    </tr>\n",
       "    <tr>\n",
       "      <th>MA</th>\n",
       "      <td>54</td>\n",
       "      <td>11</td>\n",
       "      <td>54</td>\n",
       "      <td>11</td>\n",
       "      <td>65</td>\n",
       "      <td>16.923077</td>\n",
       "    </tr>\n",
       "    <tr>\n",
       "      <th>PA</th>\n",
       "      <td>37</td>\n",
       "      <td>8</td>\n",
       "      <td>37</td>\n",
       "      <td>8</td>\n",
       "      <td>45</td>\n",
       "      <td>17.777778</td>\n",
       "    </tr>\n",
       "    <tr>\n",
       "      <th>MN</th>\n",
       "      <td>69</td>\n",
       "      <td>15</td>\n",
       "      <td>69</td>\n",
       "      <td>15</td>\n",
       "      <td>84</td>\n",
       "      <td>17.857143</td>\n",
       "    </tr>\n",
       "    <tr>\n",
       "      <th>NY</th>\n",
       "      <td>68</td>\n",
       "      <td>15</td>\n",
       "      <td>68</td>\n",
       "      <td>15</td>\n",
       "      <td>83</td>\n",
       "      <td>18.072289</td>\n",
       "    </tr>\n",
       "    <tr>\n",
       "      <th>KS</th>\n",
       "      <td>57</td>\n",
       "      <td>13</td>\n",
       "      <td>57</td>\n",
       "      <td>13</td>\n",
       "      <td>70</td>\n",
       "      <td>18.571429</td>\n",
       "    </tr>\n",
       "    <tr>\n",
       "      <th>AR</th>\n",
       "      <td>44</td>\n",
       "      <td>11</td>\n",
       "      <td>44</td>\n",
       "      <td>11</td>\n",
       "      <td>55</td>\n",
       "      <td>20.000000</td>\n",
       "    </tr>\n",
       "    <tr>\n",
       "      <th>MT</th>\n",
       "      <td>54</td>\n",
       "      <td>14</td>\n",
       "      <td>54</td>\n",
       "      <td>14</td>\n",
       "      <td>68</td>\n",
       "      <td>20.588235</td>\n",
       "    </tr>\n",
       "    <tr>\n",
       "      <th>ME</th>\n",
       "      <td>49</td>\n",
       "      <td>13</td>\n",
       "      <td>49</td>\n",
       "      <td>13</td>\n",
       "      <td>62</td>\n",
       "      <td>20.967742</td>\n",
       "    </tr>\n",
       "    <tr>\n",
       "      <th>WA</th>\n",
       "      <td>52</td>\n",
       "      <td>14</td>\n",
       "      <td>52</td>\n",
       "      <td>14</td>\n",
       "      <td>66</td>\n",
       "      <td>21.212121</td>\n",
       "    </tr>\n",
       "    <tr>\n",
       "      <th>NV</th>\n",
       "      <td>52</td>\n",
       "      <td>14</td>\n",
       "      <td>52</td>\n",
       "      <td>14</td>\n",
       "      <td>66</td>\n",
       "      <td>21.212121</td>\n",
       "    </tr>\n",
       "    <tr>\n",
       "      <th>MS</th>\n",
       "      <td>51</td>\n",
       "      <td>14</td>\n",
       "      <td>51</td>\n",
       "      <td>14</td>\n",
       "      <td>65</td>\n",
       "      <td>21.538462</td>\n",
       "    </tr>\n",
       "    <tr>\n",
       "      <th>MI</th>\n",
       "      <td>57</td>\n",
       "      <td>16</td>\n",
       "      <td>57</td>\n",
       "      <td>16</td>\n",
       "      <td>73</td>\n",
       "      <td>21.917808</td>\n",
       "    </tr>\n",
       "    <tr>\n",
       "      <th>SC</th>\n",
       "      <td>46</td>\n",
       "      <td>14</td>\n",
       "      <td>46</td>\n",
       "      <td>14</td>\n",
       "      <td>60</td>\n",
       "      <td>23.333333</td>\n",
       "    </tr>\n",
       "    <tr>\n",
       "      <th>MD</th>\n",
       "      <td>53</td>\n",
       "      <td>17</td>\n",
       "      <td>53</td>\n",
       "      <td>17</td>\n",
       "      <td>70</td>\n",
       "      <td>24.285714</td>\n",
       "    </tr>\n",
       "    <tr>\n",
       "      <th>TX</th>\n",
       "      <td>54</td>\n",
       "      <td>18</td>\n",
       "      <td>54</td>\n",
       "      <td>18</td>\n",
       "      <td>72</td>\n",
       "      <td>25.000000</td>\n",
       "    </tr>\n",
       "    <tr>\n",
       "      <th>NJ</th>\n",
       "      <td>50</td>\n",
       "      <td>18</td>\n",
       "      <td>50</td>\n",
       "      <td>18</td>\n",
       "      <td>68</td>\n",
       "      <td>26.470588</td>\n",
       "    </tr>\n",
       "    <tr>\n",
       "      <th>CA</th>\n",
       "      <td>25</td>\n",
       "      <td>9</td>\n",
       "      <td>25</td>\n",
       "      <td>9</td>\n",
       "      <td>34</td>\n",
       "      <td>26.470588</td>\n",
       "    </tr>\n",
       "  </tbody>\n",
       "</table>\n",
       "</div>"
      ],
      "text/plain": [
       "churn  False  True   F   T  Total   Abandono\n",
       "state                                       \n",
       "HI        50     3  50   3     53   5.660377\n",
       "AK        49     3  49   3     52   5.769231\n",
       "AZ        60     4  60   4     64   6.250000\n",
       "VA        72     5  72   5     77   6.493506\n",
       "IA        41     3  41   3     44   6.818182\n",
       "LA        47     4  47   4     51   7.843137\n",
       "NE        56     5  56   5     61   8.196721\n",
       "IL        53     5  53   5     58   8.620690\n",
       "WI        71     7  71   7     78   8.974359\n",
       "RI        59     6  59   6     65   9.230769\n",
       "DC        49     5  49   5     54   9.259259\n",
       "TN        48     5  48   5     53   9.433962\n",
       "WV        96    10  96  10    106   9.433962\n",
       "NM        56     6  56   6     62   9.677419\n",
       "ND        56     6  56   6     62   9.677419\n",
       "AL        72     8  72   8     80  10.000000\n",
       "VT        65     8  65   8     73  10.958904\n",
       "MO        56     7  56   7     63  11.111111\n",
       "WY        68     9  68   9     77  11.688312\n",
       "ID        64     9  64   9     73  12.328767\n",
       "IN        62     9  62   9     71  12.676056\n",
       "FL        55     8  55   8     63  12.698413\n",
       "OH        68    10  68  10     78  12.820513\n",
       "SD        52     8  52   8     60  13.333333\n",
       "KY        51     8  51   8     59  13.559322\n",
       "CO        57     9  57   9     66  13.636364\n",
       "UT        62    10  62  10     72  13.888889\n",
       "OR        67    11  67  11     78  14.102564\n",
       "OK        52     9  52   9     61  14.754098\n",
       "DE        52     9  52   9     61  14.754098\n",
       "GA        46     8  46   8     54  14.814815\n",
       "NH        47     9  47   9     56  16.071429\n",
       "NC        57    11  57  11     68  16.176471\n",
       "CT        62    12  62  12     74  16.216216\n",
       "MA        54    11  54  11     65  16.923077\n",
       "PA        37     8  37   8     45  17.777778\n",
       "MN        69    15  69  15     84  17.857143\n",
       "NY        68    15  68  15     83  18.072289\n",
       "KS        57    13  57  13     70  18.571429\n",
       "AR        44    11  44  11     55  20.000000\n",
       "MT        54    14  54  14     68  20.588235\n",
       "ME        49    13  49  13     62  20.967742\n",
       "WA        52    14  52  14     66  21.212121\n",
       "NV        52    14  52  14     66  21.212121\n",
       "MS        51    14  51  14     65  21.538462\n",
       "MI        57    16  57  16     73  21.917808\n",
       "SC        46    14  46  14     60  23.333333\n",
       "MD        53    17  53  17     70  24.285714\n",
       "TX        54    18  54  18     72  25.000000\n",
       "NJ        50    18  50  18     68  26.470588\n",
       "CA        25     9  25   9     34  26.470588"
      ]
     },
     "execution_count": 12,
     "metadata": {},
     "output_type": "execute_result"
    }
   ],
   "source": [
    "dfstate = df.groupby([\"state\", \"churn\"]).size().unstack()\n",
    "porc_abandono(dfstate)\n",
    "dfstate.sort_values(by=['Abandono'])"
   ]
  },
  {
   "cell_type": "code",
   "execution_count": 13,
   "metadata": {},
   "outputs": [
    {
     "data": {
      "text/plain": [
       "<matplotlib.axes._subplots.AxesSubplot at 0xec2d1745c8>"
      ]
     },
     "execution_count": 13,
     "metadata": {},
     "output_type": "execute_result"
    },
    {
     "data": {
      "image/png": "[encoded data removed]",
      "text/plain": [
       "<Figure size 360x360 with 1 Axes>"
      ]
     },
     "metadata": {
      "needs_background": "light"
     },
     "output_type": "display_data"
    }
   ],
   "source": [
    "# 12 estados con % de abandono mayor o igual al 20%.\n",
    "# 16 estados con % de abandono menor o igual a 10%.\n",
    "df.groupby([\"area code\", \"churn\"]).size().unstack().plot(kind='bar', stacked=True, figsize=(5,5)) "
   ]
  },
  {
   "cell_type": "code",
   "execution_count": 14,
   "metadata": {},
   "outputs": [
    {
     "data": {
      "text/html": [
       "<div>\n",
       "<style scoped>\n",
       "    .dataframe tbody tr th:only-of-type {\n",
       "        vertical-align: middle;\n",
       "    }\n",
       "\n",
       "    .dataframe tbody tr th {\n",
       "        vertical-align: top;\n",
       "    }\n",
       "\n",
       "    .dataframe thead th {\n",
       "        text-align: right;\n",
       "    }\n",
       "</style>\n",
       "<table border=\"1\" class=\"dataframe\">\n",
       "  <thead>\n",
       "    <tr style=\"text-align: right;\">\n",
       "      <th>churn</th>\n",
       "      <th>False</th>\n",
       "      <th>True</th>\n",
       "      <th>F</th>\n",
       "      <th>T</th>\n",
       "      <th>Total</th>\n",
       "      <th>Abandono</th>\n",
       "    </tr>\n",
       "    <tr>\n",
       "      <th>area code</th>\n",
       "      <th></th>\n",
       "      <th></th>\n",
       "      <th></th>\n",
       "      <th></th>\n",
       "      <th></th>\n",
       "      <th></th>\n",
       "    </tr>\n",
       "  </thead>\n",
       "  <tbody>\n",
       "    <tr>\n",
       "      <th>415</th>\n",
       "      <td>1419</td>\n",
       "      <td>236</td>\n",
       "      <td>1419</td>\n",
       "      <td>236</td>\n",
       "      <td>1655</td>\n",
       "      <td>14.259819</td>\n",
       "    </tr>\n",
       "    <tr>\n",
       "      <th>408</th>\n",
       "      <td>716</td>\n",
       "      <td>122</td>\n",
       "      <td>716</td>\n",
       "      <td>122</td>\n",
       "      <td>838</td>\n",
       "      <td>14.558473</td>\n",
       "    </tr>\n",
       "    <tr>\n",
       "      <th>510</th>\n",
       "      <td>715</td>\n",
       "      <td>125</td>\n",
       "      <td>715</td>\n",
       "      <td>125</td>\n",
       "      <td>840</td>\n",
       "      <td>14.880952</td>\n",
       "    </tr>\n",
       "  </tbody>\n",
       "</table>\n",
       "</div>"
      ],
      "text/plain": [
       "churn      False  True     F    T  Total   Abandono\n",
       "area code                                          \n",
       "415         1419   236  1419  236   1655  14.259819\n",
       "408          716   122   716  122    838  14.558473\n",
       "510          715   125   715  125    840  14.880952"
      ]
     },
     "execution_count": 14,
     "metadata": {},
     "output_type": "execute_result"
    }
   ],
   "source": [
    "dfcode = df.groupby([\"area code\", \"churn\"]).size().unstack()\n",
    "porc_abandono(dfcode)\n",
    "dfcode.sort_values(by=['Abandono'])\n",
    "# El porcentaje de abandono por codigo de area es practicamente el mismo. "
   ]
  },
  {
   "cell_type": "code",
   "execution_count": 15,
   "metadata": {},
   "outputs": [
    {
     "data": {
      "text/plain": [
       "<matplotlib.axes._subplots.AxesSubplot at 0xec2d1f7608>"
      ]
     },
     "execution_count": 15,
     "metadata": {},
     "output_type": "execute_result"
    },
    {
     "data": {
      "image/png": "[encoded data removed]",
      "text/plain": [
       "<Figure size 360x360 with 1 Axes>"
      ]
     },
     "metadata": {
      "needs_background": "light"
     },
     "output_type": "display_data"
    }
   ],
   "source": [
    "df.groupby([\"international plan\", \"churn\"]).size().unstack().plot(kind='bar', stacked=True, figsize=(5,5)) "
   ]
  },
  {
   "cell_type": "code",
   "execution_count": 16,
   "metadata": {},
   "outputs": [
    {
     "data": {
      "text/html": [
       "<div>\n",
       "<style scoped>\n",
       "    .dataframe tbody tr th:only-of-type {\n",
       "        vertical-align: middle;\n",
       "    }\n",
       "\n",
       "    .dataframe tbody tr th {\n",
       "        vertical-align: top;\n",
       "    }\n",
       "\n",
       "    .dataframe thead th {\n",
       "        text-align: right;\n",
       "    }\n",
       "</style>\n",
       "<table border=\"1\" class=\"dataframe\">\n",
       "  <thead>\n",
       "    <tr style=\"text-align: right;\">\n",
       "      <th>churn</th>\n",
       "      <th>False</th>\n",
       "      <th>True</th>\n",
       "      <th>F</th>\n",
       "      <th>T</th>\n",
       "      <th>Total</th>\n",
       "      <th>Abandono</th>\n",
       "    </tr>\n",
       "    <tr>\n",
       "      <th>international plan</th>\n",
       "      <th></th>\n",
       "      <th></th>\n",
       "      <th></th>\n",
       "      <th></th>\n",
       "      <th></th>\n",
       "      <th></th>\n",
       "    </tr>\n",
       "  </thead>\n",
       "  <tbody>\n",
       "    <tr>\n",
       "      <th>no</th>\n",
       "      <td>2664</td>\n",
       "      <td>346</td>\n",
       "      <td>2664</td>\n",
       "      <td>346</td>\n",
       "      <td>3010</td>\n",
       "      <td>11.495017</td>\n",
       "    </tr>\n",
       "    <tr>\n",
       "      <th>yes</th>\n",
       "      <td>186</td>\n",
       "      <td>137</td>\n",
       "      <td>186</td>\n",
       "      <td>137</td>\n",
       "      <td>323</td>\n",
       "      <td>42.414861</td>\n",
       "    </tr>\n",
       "  </tbody>\n",
       "</table>\n",
       "</div>"
      ],
      "text/plain": [
       "churn               False  True     F    T  Total   Abandono\n",
       "international plan                                          \n",
       "no                   2664   346  2664  346   3010  11.495017\n",
       "yes                   186   137   186  137    323  42.414861"
      ]
     },
     "execution_count": 16,
     "metadata": {},
     "output_type": "execute_result"
    }
   ],
   "source": [
    "dfplan = df.groupby([\"international plan\", \"churn\"]).size().unstack()\n",
    "porc_abandono(dfplan)\n",
    "dfplan.sort_values(by=['Abandono'])\n",
    "# Mucho mayor abandono (casi 4 veces más) sí tienen plan internacional,\n",
    "# ya que utilizan el servicio y luego de un tiempo se salen."
   ]
  },
  {
   "cell_type": "code",
   "execution_count": 17,
   "metadata": {},
   "outputs": [
    {
     "data": {
      "text/plain": [
       "<matplotlib.axes._subplots.AxesSubplot at 0xec2d277688>"
      ]
     },
     "execution_count": 17,
     "metadata": {},
     "output_type": "execute_result"
    },
    {
     "data": {
      "image/png": "[encoded data removed]",
      "text/plain": [
       "<Figure size 360x360 with 1 Axes>"
      ]
     },
     "metadata": {
      "needs_background": "light"
     },
     "output_type": "display_data"
    }
   ],
   "source": [
    "df.groupby([\"voice mail plan\", \"churn\"]).size().unstack().plot(kind='bar', stacked=True, figsize=(5,5)) "
   ]
  },
  {
   "cell_type": "code",
   "execution_count": 18,
   "metadata": {},
   "outputs": [
    {
     "data": {
      "text/html": [
       "<div>\n",
       "<style scoped>\n",
       "    .dataframe tbody tr th:only-of-type {\n",
       "        vertical-align: middle;\n",
       "    }\n",
       "\n",
       "    .dataframe tbody tr th {\n",
       "        vertical-align: top;\n",
       "    }\n",
       "\n",
       "    .dataframe thead th {\n",
       "        text-align: right;\n",
       "    }\n",
       "</style>\n",
       "<table border=\"1\" class=\"dataframe\">\n",
       "  <thead>\n",
       "    <tr style=\"text-align: right;\">\n",
       "      <th>churn</th>\n",
       "      <th>False</th>\n",
       "      <th>True</th>\n",
       "      <th>F</th>\n",
       "      <th>T</th>\n",
       "      <th>Total</th>\n",
       "      <th>Abandono</th>\n",
       "    </tr>\n",
       "    <tr>\n",
       "      <th>voice mail plan</th>\n",
       "      <th></th>\n",
       "      <th></th>\n",
       "      <th></th>\n",
       "      <th></th>\n",
       "      <th></th>\n",
       "      <th></th>\n",
       "    </tr>\n",
       "  </thead>\n",
       "  <tbody>\n",
       "    <tr>\n",
       "      <th>yes</th>\n",
       "      <td>842</td>\n",
       "      <td>80</td>\n",
       "      <td>842</td>\n",
       "      <td>80</td>\n",
       "      <td>922</td>\n",
       "      <td>8.676790</td>\n",
       "    </tr>\n",
       "    <tr>\n",
       "      <th>no</th>\n",
       "      <td>2008</td>\n",
       "      <td>403</td>\n",
       "      <td>2008</td>\n",
       "      <td>403</td>\n",
       "      <td>2411</td>\n",
       "      <td>16.715056</td>\n",
       "    </tr>\n",
       "  </tbody>\n",
       "</table>\n",
       "</div>"
      ],
      "text/plain": [
       "churn            False  True     F    T  Total   Abandono\n",
       "voice mail plan                                          \n",
       "yes                842    80   842   80    922   8.676790\n",
       "no                2008   403  2008  403   2411  16.715056"
      ]
     },
     "execution_count": 18,
     "metadata": {},
     "output_type": "execute_result"
    }
   ],
   "source": [
    "dfvoice = df.groupby([\"voice mail plan\", \"churn\"]).size().unstack()\n",
    "porc_abandono(dfvoice)\n",
    "dfvoice.sort_values(by=['Abandono'])\n",
    "# Mucho mayor abandono (casi el doble) sí tienen plan de voz,\n",
    "# ya que utilizan el servicio y luego de un tiempo se salen."
   ]
  },
  {
   "cell_type": "markdown",
   "metadata": {},
   "source": [
    "Sí hay una variación de porcentaje de usuarios que abandonan por estado, pero al analizarlo por código de área no hay variación lo que indica que la hipótesis de grandes cambios en la calidad de la señal, al menos entre grupos estatales sea falsa. En cambio, el porcentaje de abandono de un usuario varía en mayor medida sí el usuario tenía un plan internacional y/o un plan de voz. \n",
    "\n",
    "# 2. Ajuste de datos no numéricos para utilizar los modelos"
   ]
  },
  {
   "cell_type": "code",
   "execution_count": 19,
   "metadata": {},
   "outputs": [],
   "source": [
    "# Codificador discreto de valores enteros\n",
    "label_encoder = preprocessing.LabelEncoder()"
   ]
  },
  {
   "cell_type": "code",
   "execution_count": 20,
   "metadata": {},
   "outputs": [
    {
     "name": "stdout",
     "output_type": "stream",
     "text": [
      "state                       int32\n",
      "account length              int64\n",
      "area code                   int64\n",
      "phone number               object\n",
      "international plan          int32\n",
      "voice mail plan             int32\n",
      "number vmail messages       int64\n",
      "total day minutes         float64\n",
      "total day calls             int64\n",
      "total day charge          float64\n",
      "total eve minutes         float64\n",
      "total eve calls             int64\n",
      "total eve charge          float64\n",
      "total night minutes       float64\n",
      "total night calls           int64\n",
      "total night charge        float64\n",
      "total intl minutes        float64\n",
      "total intl calls            int64\n",
      "total intl charge         float64\n",
      "customer service calls      int64\n",
      "churn                        bool\n",
      "dtype: object\n"
     ]
    }
   ],
   "source": [
    "# Los Estados son caracteres y queremos enteros\n",
    "df['state'] = label_encoder.fit_transform(df['state'])\n",
    "df['international plan'] = label_encoder.fit_transform(df['international plan'])\n",
    "df['voice mail plan'] = label_encoder.fit_transform(df['voice mail plan'])\n",
    "\n",
    "#print (df['Voice mail plan'][:4])\n",
    "print (df.dtypes)"
   ]
  },
  {
   "cell_type": "code",
   "execution_count": 21,
   "metadata": {},
   "outputs": [
    {
     "data": {
      "text/html": [
       "<div>\n",
       "<style scoped>\n",
       "    .dataframe tbody tr th:only-of-type {\n",
       "        vertical-align: middle;\n",
       "    }\n",
       "\n",
       "    .dataframe tbody tr th {\n",
       "        vertical-align: top;\n",
       "    }\n",
       "\n",
       "    .dataframe thead th {\n",
       "        text-align: right;\n",
       "    }\n",
       "</style>\n",
       "<table border=\"1\" class=\"dataframe\">\n",
       "  <thead>\n",
       "    <tr style=\"text-align: right;\">\n",
       "      <th></th>\n",
       "      <th>state</th>\n",
       "      <th>account length</th>\n",
       "      <th>area code</th>\n",
       "      <th>phone number</th>\n",
       "      <th>international plan</th>\n",
       "      <th>voice mail plan</th>\n",
       "      <th>number vmail messages</th>\n",
       "      <th>total day minutes</th>\n",
       "      <th>total day calls</th>\n",
       "      <th>total day charge</th>\n",
       "      <th>...</th>\n",
       "      <th>total eve calls</th>\n",
       "      <th>total eve charge</th>\n",
       "      <th>total night minutes</th>\n",
       "      <th>total night calls</th>\n",
       "      <th>total night charge</th>\n",
       "      <th>total intl minutes</th>\n",
       "      <th>total intl calls</th>\n",
       "      <th>total intl charge</th>\n",
       "      <th>customer service calls</th>\n",
       "      <th>churn</th>\n",
       "    </tr>\n",
       "  </thead>\n",
       "  <tbody>\n",
       "    <tr>\n",
       "      <th>0</th>\n",
       "      <td>16</td>\n",
       "      <td>128</td>\n",
       "      <td>415</td>\n",
       "      <td>382-4657</td>\n",
       "      <td>0</td>\n",
       "      <td>1</td>\n",
       "      <td>25</td>\n",
       "      <td>265.1</td>\n",
       "      <td>110</td>\n",
       "      <td>45.07</td>\n",
       "      <td>...</td>\n",
       "      <td>99</td>\n",
       "      <td>16.78</td>\n",
       "      <td>244.7</td>\n",
       "      <td>91</td>\n",
       "      <td>11.01</td>\n",
       "      <td>10.0</td>\n",
       "      <td>3</td>\n",
       "      <td>2.70</td>\n",
       "      <td>1</td>\n",
       "      <td>False</td>\n",
       "    </tr>\n",
       "    <tr>\n",
       "      <th>1</th>\n",
       "      <td>35</td>\n",
       "      <td>107</td>\n",
       "      <td>415</td>\n",
       "      <td>371-7191</td>\n",
       "      <td>0</td>\n",
       "      <td>1</td>\n",
       "      <td>26</td>\n",
       "      <td>161.6</td>\n",
       "      <td>123</td>\n",
       "      <td>27.47</td>\n",
       "      <td>...</td>\n",
       "      <td>103</td>\n",
       "      <td>16.62</td>\n",
       "      <td>254.4</td>\n",
       "      <td>103</td>\n",
       "      <td>11.45</td>\n",
       "      <td>13.7</td>\n",
       "      <td>3</td>\n",
       "      <td>3.70</td>\n",
       "      <td>1</td>\n",
       "      <td>False</td>\n",
       "    </tr>\n",
       "    <tr>\n",
       "      <th>2</th>\n",
       "      <td>31</td>\n",
       "      <td>137</td>\n",
       "      <td>415</td>\n",
       "      <td>358-1921</td>\n",
       "      <td>0</td>\n",
       "      <td>0</td>\n",
       "      <td>0</td>\n",
       "      <td>243.4</td>\n",
       "      <td>114</td>\n",
       "      <td>41.38</td>\n",
       "      <td>...</td>\n",
       "      <td>110</td>\n",
       "      <td>10.30</td>\n",
       "      <td>162.6</td>\n",
       "      <td>104</td>\n",
       "      <td>7.32</td>\n",
       "      <td>12.2</td>\n",
       "      <td>5</td>\n",
       "      <td>3.29</td>\n",
       "      <td>0</td>\n",
       "      <td>False</td>\n",
       "    </tr>\n",
       "    <tr>\n",
       "      <th>3</th>\n",
       "      <td>35</td>\n",
       "      <td>84</td>\n",
       "      <td>408</td>\n",
       "      <td>375-9999</td>\n",
       "      <td>1</td>\n",
       "      <td>0</td>\n",
       "      <td>0</td>\n",
       "      <td>299.4</td>\n",
       "      <td>71</td>\n",
       "      <td>50.90</td>\n",
       "      <td>...</td>\n",
       "      <td>88</td>\n",
       "      <td>5.26</td>\n",
       "      <td>196.9</td>\n",
       "      <td>89</td>\n",
       "      <td>8.86</td>\n",
       "      <td>6.6</td>\n",
       "      <td>7</td>\n",
       "      <td>1.78</td>\n",
       "      <td>2</td>\n",
       "      <td>False</td>\n",
       "    </tr>\n",
       "    <tr>\n",
       "      <th>4</th>\n",
       "      <td>36</td>\n",
       "      <td>75</td>\n",
       "      <td>415</td>\n",
       "      <td>330-6626</td>\n",
       "      <td>1</td>\n",
       "      <td>0</td>\n",
       "      <td>0</td>\n",
       "      <td>166.7</td>\n",
       "      <td>113</td>\n",
       "      <td>28.34</td>\n",
       "      <td>...</td>\n",
       "      <td>122</td>\n",
       "      <td>12.61</td>\n",
       "      <td>186.9</td>\n",
       "      <td>121</td>\n",
       "      <td>8.41</td>\n",
       "      <td>10.1</td>\n",
       "      <td>3</td>\n",
       "      <td>2.73</td>\n",
       "      <td>3</td>\n",
       "      <td>False</td>\n",
       "    </tr>\n",
       "  </tbody>\n",
       "</table>\n",
       "<p>5 rows × 21 columns</p>\n",
       "</div>"
      ],
      "text/plain": [
       "   state  account length  area code phone number  international plan  \\\n",
       "0     16             128        415     382-4657                   0   \n",
       "1     35             107        415     371-7191                   0   \n",
       "2     31             137        415     358-1921                   0   \n",
       "3     35              84        408     375-9999                   1   \n",
       "4     36              75        415     330-6626                   1   \n",
       "\n",
       "   voice mail plan  number vmail messages  total day minutes  total day calls  \\\n",
       "0                1                     25              265.1              110   \n",
       "1                1                     26              161.6              123   \n",
       "2                0                      0              243.4              114   \n",
       "3                0                      0              299.4               71   \n",
       "4                0                      0              166.7              113   \n",
       "\n",
       "   total day charge  ...  total eve calls  total eve charge  \\\n",
       "0             45.07  ...               99             16.78   \n",
       "1             27.47  ...              103             16.62   \n",
       "2             41.38  ...              110             10.30   \n",
       "3             50.90  ...               88              5.26   \n",
       "4             28.34  ...              122             12.61   \n",
       "\n",
       "   total night minutes  total night calls  total night charge  \\\n",
       "0                244.7                 91               11.01   \n",
       "1                254.4                103               11.45   \n",
       "2                162.6                104                7.32   \n",
       "3                196.9                 89                8.86   \n",
       "4                186.9                121                8.41   \n",
       "\n",
       "   total intl minutes  total intl calls  total intl charge  \\\n",
       "0                10.0                 3               2.70   \n",
       "1                13.7                 3               3.70   \n",
       "2                12.2                 5               3.29   \n",
       "3                 6.6                 7               1.78   \n",
       "4                10.1                 3               2.73   \n",
       "\n",
       "   customer service calls  churn  \n",
       "0                       1  False  \n",
       "1                       1  False  \n",
       "2                       0  False  \n",
       "3                       2  False  \n",
       "4                       3  False  \n",
       "\n",
       "[5 rows x 21 columns]"
      ]
     },
     "execution_count": 21,
     "metadata": {},
     "output_type": "execute_result"
    }
   ],
   "source": [
    "df.head()\n",
    "# Los estados pasaron a ser entre 1 a 51, mientras que el plan internacional y el plan de voz pasaron a ser 0 o 1s. "
   ]
  },
  {
   "cell_type": "code",
   "execution_count": 22,
   "metadata": {},
   "outputs": [
    {
     "data": {
      "text/plain": [
       "3333"
      ]
     },
     "execution_count": 22,
     "metadata": {},
     "output_type": "execute_result"
    }
   ],
   "source": [
    "y = pd.DataFrame(df['churn']).to_numpy().astype(np.int)\n",
    "y.size"
   ]
  },
  {
   "cell_type": "markdown",
   "metadata": {},
   "source": [
    "Quitar las columnas redundantes"
   ]
  },
  {
   "cell_type": "code",
   "execution_count": 23,
   "metadata": {},
   "outputs": [],
   "source": [
    "df.drop([\"phone number\",\"churn\"], axis = 1, inplace=True)"
   ]
  },
  {
   "cell_type": "code",
   "execution_count": 24,
   "metadata": {},
   "outputs": [
    {
     "data": {
      "text/html": [
       "<div>\n",
       "<style scoped>\n",
       "    .dataframe tbody tr th:only-of-type {\n",
       "        vertical-align: middle;\n",
       "    }\n",
       "\n",
       "    .dataframe tbody tr th {\n",
       "        vertical-align: top;\n",
       "    }\n",
       "\n",
       "    .dataframe thead th {\n",
       "        text-align: right;\n",
       "    }\n",
       "</style>\n",
       "<table border=\"1\" class=\"dataframe\">\n",
       "  <thead>\n",
       "    <tr style=\"text-align: right;\">\n",
       "      <th></th>\n",
       "      <th>state</th>\n",
       "      <th>account length</th>\n",
       "      <th>area code</th>\n",
       "      <th>international plan</th>\n",
       "      <th>voice mail plan</th>\n",
       "      <th>number vmail messages</th>\n",
       "      <th>total day minutes</th>\n",
       "      <th>total day calls</th>\n",
       "      <th>total day charge</th>\n",
       "      <th>total eve minutes</th>\n",
       "      <th>total eve calls</th>\n",
       "      <th>total eve charge</th>\n",
       "      <th>total night minutes</th>\n",
       "      <th>total night calls</th>\n",
       "      <th>total night charge</th>\n",
       "      <th>total intl minutes</th>\n",
       "      <th>total intl calls</th>\n",
       "      <th>total intl charge</th>\n",
       "      <th>customer service calls</th>\n",
       "    </tr>\n",
       "  </thead>\n",
       "  <tbody>\n",
       "    <tr>\n",
       "      <th>0</th>\n",
       "      <td>16</td>\n",
       "      <td>128</td>\n",
       "      <td>415</td>\n",
       "      <td>0</td>\n",
       "      <td>1</td>\n",
       "      <td>25</td>\n",
       "      <td>265.1</td>\n",
       "      <td>110</td>\n",
       "      <td>45.07</td>\n",
       "      <td>197.4</td>\n",
       "      <td>99</td>\n",
       "      <td>16.78</td>\n",
       "      <td>244.7</td>\n",
       "      <td>91</td>\n",
       "      <td>11.01</td>\n",
       "      <td>10.0</td>\n",
       "      <td>3</td>\n",
       "      <td>2.70</td>\n",
       "      <td>1</td>\n",
       "    </tr>\n",
       "    <tr>\n",
       "      <th>1</th>\n",
       "      <td>35</td>\n",
       "      <td>107</td>\n",
       "      <td>415</td>\n",
       "      <td>0</td>\n",
       "      <td>1</td>\n",
       "      <td>26</td>\n",
       "      <td>161.6</td>\n",
       "      <td>123</td>\n",
       "      <td>27.47</td>\n",
       "      <td>195.5</td>\n",
       "      <td>103</td>\n",
       "      <td>16.62</td>\n",
       "      <td>254.4</td>\n",
       "      <td>103</td>\n",
       "      <td>11.45</td>\n",
       "      <td>13.7</td>\n",
       "      <td>3</td>\n",
       "      <td>3.70</td>\n",
       "      <td>1</td>\n",
       "    </tr>\n",
       "    <tr>\n",
       "      <th>2</th>\n",
       "      <td>31</td>\n",
       "      <td>137</td>\n",
       "      <td>415</td>\n",
       "      <td>0</td>\n",
       "      <td>0</td>\n",
       "      <td>0</td>\n",
       "      <td>243.4</td>\n",
       "      <td>114</td>\n",
       "      <td>41.38</td>\n",
       "      <td>121.2</td>\n",
       "      <td>110</td>\n",
       "      <td>10.30</td>\n",
       "      <td>162.6</td>\n",
       "      <td>104</td>\n",
       "      <td>7.32</td>\n",
       "      <td>12.2</td>\n",
       "      <td>5</td>\n",
       "      <td>3.29</td>\n",
       "      <td>0</td>\n",
       "    </tr>\n",
       "  </tbody>\n",
       "</table>\n",
       "</div>"
      ],
      "text/plain": [
       "   state  account length  area code  international plan  voice mail plan  \\\n",
       "0     16             128        415                   0                1   \n",
       "1     35             107        415                   0                1   \n",
       "2     31             137        415                   0                0   \n",
       "\n",
       "   number vmail messages  total day minutes  total day calls  \\\n",
       "0                     25              265.1              110   \n",
       "1                     26              161.6              123   \n",
       "2                      0              243.4              114   \n",
       "\n",
       "   total day charge  total eve minutes  total eve calls  total eve charge  \\\n",
       "0             45.07              197.4               99             16.78   \n",
       "1             27.47              195.5              103             16.62   \n",
       "2             41.38              121.2              110             10.30   \n",
       "\n",
       "   total night minutes  total night calls  total night charge  \\\n",
       "0                244.7                 91               11.01   \n",
       "1                254.4                103               11.45   \n",
       "2                162.6                104                7.32   \n",
       "\n",
       "   total intl minutes  total intl calls  total intl charge  \\\n",
       "0                10.0                 3               2.70   \n",
       "1                13.7                 3               3.70   \n",
       "2                12.2                 5               3.29   \n",
       "\n",
       "   customer service calls  \n",
       "0                       1  \n",
       "1                       1  \n",
       "2                       0  "
      ]
     },
     "execution_count": 24,
     "metadata": {},
     "output_type": "execute_result"
    }
   ],
   "source": [
    "df.head(3)"
   ]
  },
  {
   "cell_type": "markdown",
   "metadata": {},
   "source": [
    "Construir la matriz de características"
   ]
  },
  {
   "cell_type": "code",
   "execution_count": 25,
   "metadata": {},
   "outputs": [
    {
     "data": {
      "text/html": [
       "<div>\n",
       "<style scoped>\n",
       "    .dataframe tbody tr th:only-of-type {\n",
       "        vertical-align: middle;\n",
       "    }\n",
       "\n",
       "    .dataframe tbody tr th {\n",
       "        vertical-align: top;\n",
       "    }\n",
       "\n",
       "    .dataframe thead th {\n",
       "        text-align: right;\n",
       "    }\n",
       "</style>\n",
       "<table border=\"1\" class=\"dataframe\">\n",
       "  <thead>\n",
       "    <tr style=\"text-align: right;\">\n",
       "      <th></th>\n",
       "      <th>state</th>\n",
       "      <th>account length</th>\n",
       "      <th>area code</th>\n",
       "      <th>international plan</th>\n",
       "      <th>voice mail plan</th>\n",
       "      <th>number vmail messages</th>\n",
       "      <th>total day minutes</th>\n",
       "      <th>total day calls</th>\n",
       "      <th>total day charge</th>\n",
       "      <th>total eve minutes</th>\n",
       "      <th>total eve calls</th>\n",
       "      <th>total eve charge</th>\n",
       "      <th>total night minutes</th>\n",
       "      <th>total night calls</th>\n",
       "      <th>total night charge</th>\n",
       "      <th>total intl minutes</th>\n",
       "      <th>total intl calls</th>\n",
       "      <th>total intl charge</th>\n",
       "      <th>customer service calls</th>\n",
       "    </tr>\n",
       "  </thead>\n",
       "  <tbody>\n",
       "    <tr>\n",
       "      <th>0</th>\n",
       "      <td>16.0</td>\n",
       "      <td>128.0</td>\n",
       "      <td>415.0</td>\n",
       "      <td>0.0</td>\n",
       "      <td>1.0</td>\n",
       "      <td>25.0</td>\n",
       "      <td>265.1</td>\n",
       "      <td>110.0</td>\n",
       "      <td>45.07</td>\n",
       "      <td>197.4</td>\n",
       "      <td>99.0</td>\n",
       "      <td>16.78</td>\n",
       "      <td>244.7</td>\n",
       "      <td>91.0</td>\n",
       "      <td>11.01</td>\n",
       "      <td>10.0</td>\n",
       "      <td>3.0</td>\n",
       "      <td>2.70</td>\n",
       "      <td>1.0</td>\n",
       "    </tr>\n",
       "    <tr>\n",
       "      <th>1</th>\n",
       "      <td>35.0</td>\n",
       "      <td>107.0</td>\n",
       "      <td>415.0</td>\n",
       "      <td>0.0</td>\n",
       "      <td>1.0</td>\n",
       "      <td>26.0</td>\n",
       "      <td>161.6</td>\n",
       "      <td>123.0</td>\n",
       "      <td>27.47</td>\n",
       "      <td>195.5</td>\n",
       "      <td>103.0</td>\n",
       "      <td>16.62</td>\n",
       "      <td>254.4</td>\n",
       "      <td>103.0</td>\n",
       "      <td>11.45</td>\n",
       "      <td>13.7</td>\n",
       "      <td>3.0</td>\n",
       "      <td>3.70</td>\n",
       "      <td>1.0</td>\n",
       "    </tr>\n",
       "    <tr>\n",
       "      <th>2</th>\n",
       "      <td>31.0</td>\n",
       "      <td>137.0</td>\n",
       "      <td>415.0</td>\n",
       "      <td>0.0</td>\n",
       "      <td>0.0</td>\n",
       "      <td>0.0</td>\n",
       "      <td>243.4</td>\n",
       "      <td>114.0</td>\n",
       "      <td>41.38</td>\n",
       "      <td>121.2</td>\n",
       "      <td>110.0</td>\n",
       "      <td>10.30</td>\n",
       "      <td>162.6</td>\n",
       "      <td>104.0</td>\n",
       "      <td>7.32</td>\n",
       "      <td>12.2</td>\n",
       "      <td>5.0</td>\n",
       "      <td>3.29</td>\n",
       "      <td>0.0</td>\n",
       "    </tr>\n",
       "    <tr>\n",
       "      <th>3</th>\n",
       "      <td>35.0</td>\n",
       "      <td>84.0</td>\n",
       "      <td>408.0</td>\n",
       "      <td>1.0</td>\n",
       "      <td>0.0</td>\n",
       "      <td>0.0</td>\n",
       "      <td>299.4</td>\n",
       "      <td>71.0</td>\n",
       "      <td>50.90</td>\n",
       "      <td>61.9</td>\n",
       "      <td>88.0</td>\n",
       "      <td>5.26</td>\n",
       "      <td>196.9</td>\n",
       "      <td>89.0</td>\n",
       "      <td>8.86</td>\n",
       "      <td>6.6</td>\n",
       "      <td>7.0</td>\n",
       "      <td>1.78</td>\n",
       "      <td>2.0</td>\n",
       "    </tr>\n",
       "    <tr>\n",
       "      <th>4</th>\n",
       "      <td>36.0</td>\n",
       "      <td>75.0</td>\n",
       "      <td>415.0</td>\n",
       "      <td>1.0</td>\n",
       "      <td>0.0</td>\n",
       "      <td>0.0</td>\n",
       "      <td>166.7</td>\n",
       "      <td>113.0</td>\n",
       "      <td>28.34</td>\n",
       "      <td>148.3</td>\n",
       "      <td>122.0</td>\n",
       "      <td>12.61</td>\n",
       "      <td>186.9</td>\n",
       "      <td>121.0</td>\n",
       "      <td>8.41</td>\n",
       "      <td>10.1</td>\n",
       "      <td>3.0</td>\n",
       "      <td>2.73</td>\n",
       "      <td>3.0</td>\n",
       "    </tr>\n",
       "    <tr>\n",
       "      <th>...</th>\n",
       "      <td>...</td>\n",
       "      <td>...</td>\n",
       "      <td>...</td>\n",
       "      <td>...</td>\n",
       "      <td>...</td>\n",
       "      <td>...</td>\n",
       "      <td>...</td>\n",
       "      <td>...</td>\n",
       "      <td>...</td>\n",
       "      <td>...</td>\n",
       "      <td>...</td>\n",
       "      <td>...</td>\n",
       "      <td>...</td>\n",
       "      <td>...</td>\n",
       "      <td>...</td>\n",
       "      <td>...</td>\n",
       "      <td>...</td>\n",
       "      <td>...</td>\n",
       "      <td>...</td>\n",
       "    </tr>\n",
       "    <tr>\n",
       "      <th>3328</th>\n",
       "      <td>3.0</td>\n",
       "      <td>192.0</td>\n",
       "      <td>415.0</td>\n",
       "      <td>0.0</td>\n",
       "      <td>1.0</td>\n",
       "      <td>36.0</td>\n",
       "      <td>156.2</td>\n",
       "      <td>77.0</td>\n",
       "      <td>26.55</td>\n",
       "      <td>215.5</td>\n",
       "      <td>126.0</td>\n",
       "      <td>18.32</td>\n",
       "      <td>279.1</td>\n",
       "      <td>83.0</td>\n",
       "      <td>12.56</td>\n",
       "      <td>9.9</td>\n",
       "      <td>6.0</td>\n",
       "      <td>2.67</td>\n",
       "      <td>2.0</td>\n",
       "    </tr>\n",
       "    <tr>\n",
       "      <th>3329</th>\n",
       "      <td>49.0</td>\n",
       "      <td>68.0</td>\n",
       "      <td>415.0</td>\n",
       "      <td>0.0</td>\n",
       "      <td>0.0</td>\n",
       "      <td>0.0</td>\n",
       "      <td>231.1</td>\n",
       "      <td>57.0</td>\n",
       "      <td>39.29</td>\n",
       "      <td>153.4</td>\n",
       "      <td>55.0</td>\n",
       "      <td>13.04</td>\n",
       "      <td>191.3</td>\n",
       "      <td>123.0</td>\n",
       "      <td>8.61</td>\n",
       "      <td>9.6</td>\n",
       "      <td>4.0</td>\n",
       "      <td>2.59</td>\n",
       "      <td>3.0</td>\n",
       "    </tr>\n",
       "    <tr>\n",
       "      <th>3330</th>\n",
       "      <td>39.0</td>\n",
       "      <td>28.0</td>\n",
       "      <td>510.0</td>\n",
       "      <td>0.0</td>\n",
       "      <td>0.0</td>\n",
       "      <td>0.0</td>\n",
       "      <td>180.8</td>\n",
       "      <td>109.0</td>\n",
       "      <td>30.74</td>\n",
       "      <td>288.8</td>\n",
       "      <td>58.0</td>\n",
       "      <td>24.55</td>\n",
       "      <td>191.9</td>\n",
       "      <td>91.0</td>\n",
       "      <td>8.64</td>\n",
       "      <td>14.1</td>\n",
       "      <td>6.0</td>\n",
       "      <td>3.81</td>\n",
       "      <td>2.0</td>\n",
       "    </tr>\n",
       "    <tr>\n",
       "      <th>3331</th>\n",
       "      <td>6.0</td>\n",
       "      <td>184.0</td>\n",
       "      <td>510.0</td>\n",
       "      <td>1.0</td>\n",
       "      <td>0.0</td>\n",
       "      <td>0.0</td>\n",
       "      <td>213.8</td>\n",
       "      <td>105.0</td>\n",
       "      <td>36.35</td>\n",
       "      <td>159.6</td>\n",
       "      <td>84.0</td>\n",
       "      <td>13.57</td>\n",
       "      <td>139.2</td>\n",
       "      <td>137.0</td>\n",
       "      <td>6.26</td>\n",
       "      <td>5.0</td>\n",
       "      <td>10.0</td>\n",
       "      <td>1.35</td>\n",
       "      <td>2.0</td>\n",
       "    </tr>\n",
       "    <tr>\n",
       "      <th>3332</th>\n",
       "      <td>42.0</td>\n",
       "      <td>74.0</td>\n",
       "      <td>415.0</td>\n",
       "      <td>0.0</td>\n",
       "      <td>1.0</td>\n",
       "      <td>25.0</td>\n",
       "      <td>234.4</td>\n",
       "      <td>113.0</td>\n",
       "      <td>39.85</td>\n",
       "      <td>265.9</td>\n",
       "      <td>82.0</td>\n",
       "      <td>22.60</td>\n",
       "      <td>241.4</td>\n",
       "      <td>77.0</td>\n",
       "      <td>10.86</td>\n",
       "      <td>13.7</td>\n",
       "      <td>4.0</td>\n",
       "      <td>3.70</td>\n",
       "      <td>0.0</td>\n",
       "    </tr>\n",
       "  </tbody>\n",
       "</table>\n",
       "<p>3333 rows × 19 columns</p>\n",
       "</div>"
      ],
      "text/plain": [
       "      state  account length  area code  international plan  voice mail plan  \\\n",
       "0      16.0           128.0      415.0                 0.0              1.0   \n",
       "1      35.0           107.0      415.0                 0.0              1.0   \n",
       "2      31.0           137.0      415.0                 0.0              0.0   \n",
       "3      35.0            84.0      408.0                 1.0              0.0   \n",
       "4      36.0            75.0      415.0                 1.0              0.0   \n",
       "...     ...             ...        ...                 ...              ...   \n",
       "3328    3.0           192.0      415.0                 0.0              1.0   \n",
       "3329   49.0            68.0      415.0                 0.0              0.0   \n",
       "3330   39.0            28.0      510.0                 0.0              0.0   \n",
       "3331    6.0           184.0      510.0                 1.0              0.0   \n",
       "3332   42.0            74.0      415.0                 0.0              1.0   \n",
       "\n",
       "      number vmail messages  total day minutes  total day calls  \\\n",
       "0                      25.0              265.1            110.0   \n",
       "1                      26.0              161.6            123.0   \n",
       "2                       0.0              243.4            114.0   \n",
       "3                       0.0              299.4             71.0   \n",
       "4                       0.0              166.7            113.0   \n",
       "...                     ...                ...              ...   \n",
       "3328                   36.0              156.2             77.0   \n",
       "3329                    0.0              231.1             57.0   \n",
       "3330                    0.0              180.8            109.0   \n",
       "3331                    0.0              213.8            105.0   \n",
       "3332                   25.0              234.4            113.0   \n",
       "\n",
       "      total day charge  total eve minutes  total eve calls  total eve charge  \\\n",
       "0                45.07              197.4             99.0             16.78   \n",
       "1                27.47              195.5            103.0             16.62   \n",
       "2                41.38              121.2            110.0             10.30   \n",
       "3                50.90               61.9             88.0              5.26   \n",
       "4                28.34              148.3            122.0             12.61   \n",
       "...                ...                ...              ...               ...   \n",
       "3328             26.55              215.5            126.0             18.32   \n",
       "3329             39.29              153.4             55.0             13.04   \n",
       "3330             30.74              288.8             58.0             24.55   \n",
       "3331             36.35              159.6             84.0             13.57   \n",
       "3332             39.85              265.9             82.0             22.60   \n",
       "\n",
       "      total night minutes  total night calls  total night charge  \\\n",
       "0                   244.7               91.0               11.01   \n",
       "1                   254.4              103.0               11.45   \n",
       "2                   162.6              104.0                7.32   \n",
       "3                   196.9               89.0                8.86   \n",
       "4                   186.9              121.0                8.41   \n",
       "...                   ...                ...                 ...   \n",
       "3328                279.1               83.0               12.56   \n",
       "3329                191.3              123.0                8.61   \n",
       "3330                191.9               91.0                8.64   \n",
       "3331                139.2              137.0                6.26   \n",
       "3332                241.4               77.0               10.86   \n",
       "\n",
       "      total intl minutes  total intl calls  total intl charge  \\\n",
       "0                   10.0               3.0               2.70   \n",
       "1                   13.7               3.0               3.70   \n",
       "2                   12.2               5.0               3.29   \n",
       "3                    6.6               7.0               1.78   \n",
       "4                   10.1               3.0               2.73   \n",
       "...                  ...               ...                ...   \n",
       "3328                 9.9               6.0               2.67   \n",
       "3329                 9.6               4.0               2.59   \n",
       "3330                14.1               6.0               3.81   \n",
       "3331                 5.0              10.0               1.35   \n",
       "3332                13.7               4.0               3.70   \n",
       "\n",
       "      customer service calls  \n",
       "0                        1.0  \n",
       "1                        1.0  \n",
       "2                        0.0  \n",
       "3                        2.0  \n",
       "4                        3.0  \n",
       "...                      ...  \n",
       "3328                     2.0  \n",
       "3329                     3.0  \n",
       "3330                     2.0  \n",
       "3331                     2.0  \n",
       "3332                     0.0  \n",
       "\n",
       "[3333 rows x 19 columns]"
      ]
     },
     "execution_count": 25,
     "metadata": {},
     "output_type": "execute_result"
    }
   ],
   "source": [
    "X = pd.DataFrame(df).astype(np.float)\n",
    "X"
   ]
  },
  {
   "cell_type": "code",
   "execution_count": 26,
   "metadata": {},
   "outputs": [
    {
     "data": {
      "text/plain": [
       "(3333, 19)"
      ]
     },
     "execution_count": 26,
     "metadata": {},
     "output_type": "execute_result"
    }
   ],
   "source": [
    "X.shape"
   ]
  },
  {
   "cell_type": "code",
   "execution_count": 27,
   "metadata": {},
   "outputs": [
    {
     "data": {
      "text/plain": [
       "array([[0],\n",
       "       [0],\n",
       "       [0],\n",
       "       ...,\n",
       "       [0],\n",
       "       [0],\n",
       "       [0]])"
      ]
     },
     "execution_count": 27,
     "metadata": {},
     "output_type": "execute_result"
    }
   ],
   "source": [
    "y # 0 y 1s representando el abandono"
   ]
  },
  {
   "cell_type": "code",
   "execution_count": 28,
   "metadata": {},
   "outputs": [
    {
     "data": {
      "text/plain": [
       "array([0, 0, 0, ..., 0, 0, 0])"
      ]
     },
     "execution_count": 28,
     "metadata": {},
     "output_type": "execute_result"
    }
   ],
   "source": [
    "y = y.ravel() #.ravel convierte el arreglod de datos a la forma (n, )\n",
    "y"
   ]
  },
  {
   "cell_type": "markdown",
   "metadata": {},
   "source": [
    "Se debe estandariza la matriz de características con StandardScaler, ya que normalizar los datos ayuda a no darle mayor peso a una característica sobre otra."
   ]
  },
  {
   "cell_type": "code",
   "execution_count": 29,
   "metadata": {},
   "outputs": [],
   "source": [
    "scaler = preprocessing.StandardScaler()\n",
    "X = scaler.fit_transform(X)\n",
    "X_train, X_test, y_train, y_test = train_test_split(X, y, test_size=0.4, random_state=0)"
   ]
  },
  {
   "cell_type": "markdown",
   "metadata": {},
   "source": [
    "Utilizamos validación cruzada estratificada ya que los valores de respuesta no están balanceados. Mencionado en la revisión de los datos.\n",
    "\n",
    "https://scikit-learn.org/stable/modules/generated/sklearn.model_selection.StratifiedKFold.html"
   ]
  },
  {
   "cell_type": "code",
   "execution_count": 30,
   "metadata": {},
   "outputs": [],
   "source": [
    "def stratified_cv(X, y, clf_class, shuffle=True, **kwargs):\n",
    "    skf = StratifiedKFold(n_splits=10, random_state=None, shuffle=False) \n",
    "    # Número de pliegues. Mínimo 2.\n",
    "    y_pred = y.copy()\n",
    "    # ii -> Entrenamiento\n",
    "    # jj -> Índices de prueba\n",
    "    for ii, jj in skf.split(X, y):\n",
    "        X_train, X_test = X[ii], X[jj]\n",
    "        y_train = y[ii]\n",
    "        clf = clf_class(**kwargs)\n",
    "        clf.fit(X_train,y_train)\n",
    "        y_pred[jj] = clf.predict(X_test)\n",
    "    return y_pred"
   ]
  },
  {
   "cell_type": "markdown",
   "metadata": {},
   "source": [
    "# 3. Construir Modelos y entrenar\n",
    "\n",
    "https://scikit-learn.org/stable/modules/cross_validation.html\n",
    "\n",
    "Cuando el argumento adicionado en cv es un entero, el método cross_val_score utiliza las estrategias KFold o StratifiedKFold por default. También es posible utilizar otras estrategias de validación cruzada pasando un iterador, ejemplo ShuffkeSplit (Luego de las conclusiones se utiliza este método en un espacio de prueba de los modelos)."
   ]
  },
  {
   "cell_type": "code",
   "execution_count": 31,
   "metadata": {},
   "outputs": [
    {
     "name": "stdout",
     "output_type": "stream",
     "text": [
      "Gradient Boosting Classifier:  0.95\n",
      "Support vector machine(SVM):   0.92\n",
      "Random Forest Classifier:      0.95\n",
      "K Nearest Neighbor Classifier: 0.89\n",
      "Logistic Regression:           0.86\n"
     ]
    }
   ],
   "source": [
    "print('Gradient Boosting Classifier:  {:.2f}'.format(metrics.accuracy_score(y, stratified_cv(X, y, ensemble.GradientBoostingClassifier))))\n",
    "print('Support vector machine(SVM):   {:.2f}'.format(metrics.accuracy_score(y, stratified_cv(X, y, svm.SVC))))\n",
    "print('Random Forest Classifier:      {:.2f}'.format(metrics.accuracy_score(y, stratified_cv(X, y, ensemble.RandomForestClassifier))))\n",
    "print('K Nearest Neighbor Classifier: {:.2f}'.format(metrics.accuracy_score(y, stratified_cv(X, y, neighbors.KNeighborsClassifier))))\n",
    "print('Logistic Regression:           {:.2f}'.format(metrics.accuracy_score(y, stratified_cv(X, y, linear_model.LogisticRegression))))"
   ]
  },
  {
   "cell_type": "markdown",
   "metadata": {},
   "source": [
    "# 4. Matrices de confusion para varios modelos\n",
    "\n",
    "Las matrices de confusión o de error, son utilizadas en aprendizaje automático para la revisión de las métricas de los modelos: accuracy o exactitud, recall o exhaustividad, precision o precisión, f1 score o valor F.\n",
    "\n",
    "La métrica de precisión podemos medir la calidad del modelo de machine learning en tareas de clasificación. Corresponde a la cantidad de Positivos Verdaderos dividido entre Positivos Verdaderos más Positivos Falsos. \n",
    "\n",
    "Por su parte, métrica de exhaustividad nos va a informar sobre la cantidad que el modelo de machine learning es capaz de identificar. Misma formula que la de precisión pero en vez de Positivos Falsos es Negativos Falsos. \n",
    "\n",
    "El valor F1 se utiliza para combinar las medidas de precision y recall en un sólo valor. Esto es práctico porque hace más fácil el poder comparar el rendimiento combinado de la precisión y la exhaustividad entre varias soluciones. F1 se calcula haciendo la media armónica entre la precisión y la exhaustividad: F1 = 2*precision*recall/(precision+recall)\n",
    "\n",
    "El valor F1 asume que nos importa de igual forma la precisión y la exhaustividad. \n",
    "\n",
    "Finalmente, la exactitud (accuracy) mide el porcentaje de casos que el modelo ha acertado: accuracy = TP+TN /(TP+TN+FP+FN)\n",
    "\n",
    "TP True Positives TN True Negatives FP False Positives FN False Negatives\n",
    "\n",
    "Nota: La métrica accuracy (exactitud) no funciona bien cuando las clases están desbalanceadas, por ello se realizo validación cruzada."
   ]
  },
  {
   "cell_type": "code",
   "execution_count": 32,
   "metadata": {},
   "outputs": [
    {
     "data": {
      "image/png": "[encoded data removed]",
      "text/plain": [
       "<Figure size 432x288 with 2 Axes>"
      ]
     },
     "metadata": {
      "needs_background": "light"
     },
     "output_type": "display_data"
    }
   ],
   "source": [
    "grad_ens_conf_matrix = metrics.confusion_matrix(y, stratified_cv(X, y, ensemble.GradientBoostingClassifier))\n",
    "sns.heatmap(grad_ens_conf_matrix, annot=True,  fmt='');\n",
    "title = 'Gradient Boosting'\n",
    "plt.title(title);"
   ]
  },
  {
   "cell_type": "code",
   "execution_count": 33,
   "metadata": {},
   "outputs": [
    {
     "data": {
      "image/png": "[encoded data removed]",
      "text/plain": [
       "<Figure size 432x288 with 2 Axes>"
      ]
     },
     "metadata": {
      "needs_background": "light"
     },
     "output_type": "display_data"
    }
   ],
   "source": [
    "svm_svc_conf_matrix = metrics.confusion_matrix(y, stratified_cv(X, y, svm.SVC))\n",
    "sns.heatmap(svm_svc_conf_matrix, annot=True,  fmt='');\n",
    "title = 'SVM'\n",
    "plt.title(title);"
   ]
  },
  {
   "cell_type": "code",
   "execution_count": 34,
   "metadata": {},
   "outputs": [
    {
     "data": {
      "image/png": "[encoded data removed]",
      "text/plain": [
       "<Figure size 432x288 with 2 Axes>"
      ]
     },
     "metadata": {
      "needs_background": "light"
     },
     "output_type": "display_data"
    }
   ],
   "source": [
    "random_forest_conf_matrix = metrics.confusion_matrix(y, stratified_cv(X, y, ensemble.RandomForestClassifier))\n",
    "sns.heatmap(random_forest_conf_matrix, annot=True,  fmt='');\n",
    "title = 'Random Forest'\n",
    "plt.title(title);"
   ]
  },
  {
   "cell_type": "code",
   "execution_count": 35,
   "metadata": {},
   "outputs": [
    {
     "data": {
      "image/png": "[encoded data removed]",
      "text/plain": [
       "<Figure size 432x288 with 2 Axes>"
      ]
     },
     "metadata": {
      "needs_background": "light"
     },
     "output_type": "display_data"
    }
   ],
   "source": [
    "k_neighbors_conf_matrix   = metrics.confusion_matrix(y, stratified_cv(X, y, neighbors.KNeighborsClassifier))\n",
    "sns.heatmap(k_neighbors_conf_matrix, annot=True,  fmt='');\n",
    "title = 'KNN'\n",
    "plt.title(title);"
   ]
  },
  {
   "cell_type": "code",
   "execution_count": 36,
   "metadata": {},
   "outputs": [
    {
     "data": {
      "image/png": "[encoded data removed]",
      "text/plain": [
       "<Figure size 432x288 with 2 Axes>"
      ]
     },
     "metadata": {
      "needs_background": "light"
     },
     "output_type": "display_data"
    }
   ],
   "source": [
    "logistic_reg_conf_matrix  = metrics.confusion_matrix(y, stratified_cv(X, y, linear_model.LogisticRegression))\n",
    "sns.heatmap(logistic_reg_conf_matrix, annot=True,  fmt='');\n",
    "title = 'Logistic Regression'\n",
    "plt.title(title);"
   ]
  },
  {
   "cell_type": "markdown",
   "metadata": {},
   "source": [
    "# 5. Reporte de clasificación"
   ]
  },
  {
   "cell_type": "code",
   "execution_count": 37,
   "metadata": {},
   "outputs": [
    {
     "name": "stdout",
     "output_type": "stream",
     "text": [
      "Gradient Boosting Classifier:\n",
      "               precision    recall  f1-score   support\n",
      "\n",
      "           0       0.96      0.99      0.97      2850\n",
      "           1       0.90      0.73      0.81       483\n",
      "\n",
      "    accuracy                           0.95      3333\n",
      "   macro avg       0.93      0.86      0.89      3333\n",
      "weighted avg       0.95      0.95      0.95      3333\n",
      "\n",
      "\n",
      "Support vector machine(SVM):\n",
      "               precision    recall  f1-score   support\n",
      "\n",
      "           0       0.92      0.99      0.95      2850\n",
      "           1       0.89      0.51      0.65       483\n",
      "\n",
      "    accuracy                           0.92      3333\n",
      "   macro avg       0.90      0.75      0.80      3333\n",
      "weighted avg       0.92      0.92      0.91      3333\n",
      "\n",
      "\n",
      "Random Forest Classifier:\n",
      "               precision    recall  f1-score   support\n",
      "\n",
      "           0       0.96      0.99      0.97      2850\n",
      "           1       0.95      0.72      0.82       483\n",
      "\n",
      "    accuracy                           0.95      3333\n",
      "   macro avg       0.95      0.86      0.90      3333\n",
      "weighted avg       0.95      0.95      0.95      3333\n",
      "\n",
      "\n",
      "K Nearest Neighbor Classifier:\n",
      "               precision    recall  f1-score   support\n",
      "\n",
      "           0       0.90      0.98      0.94      2850\n",
      "           1       0.79      0.33      0.46       483\n",
      "\n",
      "    accuracy                           0.89      3333\n",
      "   macro avg       0.84      0.66      0.70      3333\n",
      "weighted avg       0.88      0.89      0.87      3333\n",
      "\n",
      "\n",
      "Logistic Regression:\n",
      "               precision    recall  f1-score   support\n",
      "\n",
      "           0       0.88      0.97      0.92      2850\n",
      "           1       0.55      0.21      0.31       483\n",
      "\n",
      "    accuracy                           0.86      3333\n",
      "   macro avg       0.71      0.59      0.61      3333\n",
      "weighted avg       0.83      0.86      0.83      3333\n",
      "\n",
      "\n"
     ]
    }
   ],
   "source": [
    "print('Gradient Boosting Classifier:\\n {}\\n'.format(metrics.classification_report(y, stratified_cv(X, y, ensemble.GradientBoostingClassifier))))\n",
    "print('Support vector machine(SVM):\\n {}\\n'.format(metrics.classification_report(y, stratified_cv(X, y, svm.SVC))))\n",
    "print('Random Forest Classifier:\\n {}\\n'.format(metrics.classification_report(y, stratified_cv(X, y, ensemble.RandomForestClassifier))))\n",
    "print('K Nearest Neighbor Classifier:\\n {}\\n'.format(metrics.classification_report(y, stratified_cv(X, y, neighbors.KNeighborsClassifier))))\n",
    "print('Logistic Regression:\\n {}\\n'.format(metrics.classification_report(y, stratified_cv(X, y, linear_model.LogisticRegression))))"
   ]
  },
  {
   "cell_type": "markdown",
   "metadata": {},
   "source": [
    "# 6. Selección del modelo final"
   ]
  },
  {
   "cell_type": "code",
   "execution_count": 38,
   "metadata": {},
   "outputs": [
    {
     "data": {
      "text/plain": [
       "GradientBoostingClassifier(ccp_alpha=0.0, criterion='friedman_mse', init=None,\n",
       "                           learning_rate=0.1, loss='deviance', max_depth=3,\n",
       "                           max_features=None, max_leaf_nodes=None,\n",
       "                           min_impurity_decrease=0.0, min_impurity_split=None,\n",
       "                           min_samples_leaf=1, min_samples_split=2,\n",
       "                           min_weight_fraction_leaf=0.0, n_estimators=100,\n",
       "                           n_iter_no_change=None, presort='deprecated',\n",
       "                           random_state=None, subsample=1.0, tol=0.0001,\n",
       "                           validation_fraction=0.1, verbose=0,\n",
       "                           warm_start=False)"
      ]
     },
     "execution_count": 38,
     "metadata": {},
     "output_type": "execute_result"
    }
   ],
   "source": [
    "gbc = ensemble.GradientBoostingClassifier()\n",
    "gbc.fit(X, y)"
   ]
  },
  {
   "cell_type": "code",
   "execution_count": 39,
   "metadata": {},
   "outputs": [
    {
     "name": "stdout",
     "output_type": "stream",
     "text": [
      "[0.0019134  0.00334266 0.0003414  0.09486837 0.03711481 0.04646893\n",
      " 0.14134787 0.00413886 0.14903352 0.06649457 0.00135536 0.07638909\n",
      " 0.01182182 0.00109148 0.00662897 0.0509898  0.1110331  0.03241144\n",
      " 0.16321456]\n"
     ]
    },
    {
     "data": {
      "text/plain": [
       "<matplotlib.axes._subplots.AxesSubplot at 0xec2f47bf88>"
      ]
     },
     "execution_count": 39,
     "metadata": {},
     "output_type": "execute_result"
    },
    {
     "data": {
      "image/png": "[encoded data removed]",
      "text/plain": [
       "<Figure size 720x720 with 1 Axes>"
      ]
     },
     "metadata": {
      "needs_background": "light"
     },
     "output_type": "display_data"
    }
   ],
   "source": [
    "# Importancia por característica para el clasificador.\n",
    "feature_importance = gbc.feature_importances_\n",
    "print (gbc.feature_importances_)\n",
    "feat_importances = pd.Series(gbc.feature_importances_, index=df.columns)\n",
    "feat_importances = feat_importances.nlargest(19)\n",
    "feat_importances.plot(kind='barh' , figsize=(10,10)) "
   ]
  },
  {
   "cell_type": "code",
   "execution_count": 40,
   "metadata": {},
   "outputs": [
    {
     "data": {
      "text/plain": [
       "RandomForestClassifier(bootstrap=True, ccp_alpha=0.0, class_weight=None,\n",
       "                       criterion='gini', max_depth=None, max_features='auto',\n",
       "                       max_leaf_nodes=None, max_samples=None,\n",
       "                       min_impurity_decrease=0.0, min_impurity_split=None,\n",
       "                       min_samples_leaf=1, min_samples_split=2,\n",
       "                       min_weight_fraction_leaf=0.0, n_estimators=100,\n",
       "                       n_jobs=None, oob_score=False, random_state=None,\n",
       "                       verbose=0, warm_start=False)"
      ]
     },
     "execution_count": 40,
     "metadata": {},
     "output_type": "execute_result"
    }
   ],
   "source": [
    "# Random Forrest CLassifier supera por poco GradientBoosting Classifier\n",
    "rfc = ensemble.RandomForestClassifier()\n",
    "rfc.fit(X, y)"
   ]
  },
  {
   "cell_type": "code",
   "execution_count": 41,
   "metadata": {},
   "outputs": [
    {
     "name": "stdout",
     "output_type": "stream",
     "text": [
      "[0.02250554 0.02816927 0.00813583 0.07927974 0.02315531 0.02949186\n",
      " 0.13335526 0.02933024 0.14444836 0.06734968 0.0265248  0.06350834\n",
      " 0.0353553  0.02870563 0.03594584 0.03598658 0.05118197 0.04143132\n",
      " 0.11613914]\n"
     ]
    },
    {
     "data": {
      "text/plain": [
       "<matplotlib.axes._subplots.AxesSubplot at 0xec2f5e5848>"
      ]
     },
     "execution_count": 41,
     "metadata": {},
     "output_type": "execute_result"
    },
    {
     "data": {
      "image/png": "[encoded data removed]",
      "text/plain": [
       "<Figure size 720x720 with 1 Axes>"
      ]
     },
     "metadata": {
      "needs_background": "light"
     },
     "output_type": "display_data"
    }
   ],
   "source": [
    "# Importancia por característica para el clasificador.\n",
    "feature_importance = rfc.feature_importances_\n",
    "print (rfc.feature_importances_)\n",
    "feat_importances = pd.Series(rfc.feature_importances_, index=df.columns)\n",
    "feat_importances = feat_importances.nlargest(19)\n",
    "feat_importances.plot(kind='barh' , figsize=(10,10)) "
   ]
  },
  {
   "cell_type": "markdown",
   "metadata": {},
   "source": [
    "Ambos modelos (GBC y RFC) se ajustan muy bien en las métricas y permiten predecir satisfactoriamente si un usuario abandona o no los servicios, sin embargo tienen una gran diferencia. El clasificador de random forest le da una mayor importancia a características como el código de área, el estado, el plan de voz, la longevidad de la cuenta, etc mientras que el clasificador de Gradient Boosting se ve afectado en menor medida por estas características.\n",
    "\n",
    "Adicionalmente, ambos tienen como las características que más contribuyen a predecir el abandono a la cantidad de llamadas de soporte técnico, los minutos totales consumidos en el día y la cantidad de plan cargado en el día. \n",
    "\n",
    "Cabe mencionar que Random Forest tiene como la 4ta característica más importante para predecir el abandono de un usuario, al plan internacional, que como analisamos al inicio había 4 veces más probabilidad de abandono solo por haber adquirido este servicio."
   ]
  },
  {
   "cell_type": "markdown",
   "metadata": {},
   "source": [
    "# 7. Conclusiones del desafío"
   ]
  },
  {
   "cell_type": "markdown",
   "metadata": {},
   "source": [
    "Para el desafío ¿Cómo podríamos generar ingresos con los datos actuales que tiene nuestra organización?, se utilizó una base de datos pública de Telecom en Estados Unidos. Analizando la información recolectada, Telecom puede:\n",
    "\n",
    "En primer lugar, identificar utilizando el modelo realizado de Random Forest o de Gradient Boosting a los usuarios con mayor probabilidad para abandonar los servicios y ofrecerles mejoras o descuentos en el servicio.  Es decir, este algoritmo se puede utilizar como una herramienta para evitar que los clientes abandonen y además atraer clientes que se han salido de servicios similares en empresas competidoras.\n",
    "\n",
    "De esta forma un vendedor de los servicios de la compañía debería abordar un cliente de acuerdo al perfil, se utilizaría el modelo para generar varios tipos de clientes cada uno con una distinta probabilidad de abandono, se puede extrapolar de acuerdo a los clientes en la base de datos y realizar una venta mejor enfocada.\n",
    "\n",
    "En segundo lugar, comunicarse con los usuarios que abandonaron el servicio y adquirir información del porqué lo abandonaron para mejorar el algoritmo de predicción de abandono.\n",
    "\n",
    "Tercero, revisar inicialmente los cuatro indicadores principales o características permiten predecir el abandono y realizar ajustes a dichas características.\n",
    "\n",
    "Por ejemplo:\n",
    "1.\tPara los planes internacionales, ya que muchas personas los tomas para hacer una llamada específica y debido a competidores como las llamadas por Whatsapp, se pueden realizar planes complementarios que incluyan servicios locales e internacionales donde el usuario perciba más beneficios por un valor un poco mayor.\n",
    "\n",
    "También se puede cobrar una menor tarifa, cobrando por segundos consumidos en vez de minutos, esto también puede mejorar la percepción del precio de los planes y contribuir a la estabilidad del usuario.\n",
    "\n",
    "2.\tLas llamadas de servicio al cliente, en caso de que sean llamadas ofreciendo más servicios, establecer una organización del personal del call center para que no se realicen demasiadas llamadas al mismo número. Utilizar canales como correo u otros medios que no cansen al usuario.\n",
    "\n",
    "En caso de que estas llamadas sean en la otra dirección, llamadas de soporte que solicita el usuario se debe manejar un indicador que permita la solución rápida al usuario sin necesidad de múltiples llamadas. Utilizar plataformas con bots que resuelvan las dudas al usuario de la manera más práctica y sencilla posible, con videos u otros medios no explorados por la mayoría de las compañías.\n",
    "\n",
    "3.\tUtilizar estrategias donde el usuario pueda cambiar los servicios no utilizados en un mes específico para sumarlos a otro. Y llevar control de esta información para ofrecer planes personalizados al cliente.\n",
    "\n",
    "Adicionalmente, en términos de producción y calidad también puede generar ingresos, una base de datos con información relevante a procesos, redes o proveedores para analizar donde se deben dirigir esfuerzos y recursos para mejorar la experiencia del usuario final.\n"
   ]
  },
  {
   "cell_type": "markdown",
   "metadata": {},
   "source": [
    "# Extra: Realizando pruebas de los modelos entrenados\n",
    "Probando tamaño de los datos de prueba, cambios en cross validation y número de pliegues."
   ]
  },
  {
   "cell_type": "code",
   "execution_count": 42,
   "metadata": {
    "scrolled": true
   },
   "outputs": [
    {
     "name": "stdout",
     "output_type": "stream",
     "text": [
      "0.92 accuracy\n"
     ]
    }
   ],
   "source": [
    "X_train, X_test, y_train, y_test = train_test_split(X, y, test_size=0.4, random_state=0)\n",
    "scaler = preprocessing.StandardScaler().fit(X_train)\n",
    "X_train_transformed = scaler.transform(X_train)\n",
    "clf = svm.SVC(C=1).fit(X_train_transformed, y_train) \n",
    "X_test_transformed = scaler.transform(X_test)\n",
    "score = clf.score(X_test_transformed, y_test)\n",
    "print(\"%0.2f accuracy\" % (score))"
   ]
  },
  {
   "cell_type": "code",
   "execution_count": 43,
   "metadata": {},
   "outputs": [
    {
     "name": "stdout",
     "output_type": "stream",
     "text": [
      "(1999, 19)\n",
      "(1334, 19)\n",
      "(1999,)\n",
      "(1334,)\n"
     ]
    }
   ],
   "source": [
    "print(X_train.shape)\n",
    "print(X_test.shape)\n",
    "print(y_train.shape)\n",
    "print(y_test.shape)"
   ]
  },
  {
   "cell_type": "code",
   "execution_count": 44,
   "metadata": {},
   "outputs": [
    {
     "name": "stdout",
     "output_type": "stream",
     "text": [
      "0.92 accuracy with a standard deviation of 0.008\n"
     ]
    }
   ],
   "source": [
    "cv = ShuffleSplit(n_splits=5, test_size=0.3, random_state=0)\n",
    "score = cross_val_score(clf, X, y, cv=5)\n",
    "print(\"%0.2f accuracy with a standard deviation of %0.3f\" % (score.mean(), score.std()))"
   ]
  },
  {
   "cell_type": "code",
   "execution_count": 45,
   "metadata": {},
   "outputs": [
    {
     "name": "stdout",
     "output_type": "stream",
     "text": [
      "0.92 accuracy with a standard deviation of 0.006\n"
     ]
    }
   ],
   "source": [
    "n_samples = X.shape[0]\n",
    "score = cross_val_score(clf, X, y, cv=cv)\n",
    "print(\"%0.2f accuracy with a standard deviation of %0.3f\" % (score.mean(), score.std()))"
   ]
  },
  {
   "cell_type": "markdown",
   "metadata": {},
   "source": [
    "A Pipeline makes it easier to compose estimators, providing this behavior under cross-validation:"
   ]
  },
  {
   "cell_type": "code",
   "execution_count": 46,
   "metadata": {},
   "outputs": [
    {
     "name": "stdout",
     "output_type": "stream",
     "text": [
      "0.92 accuracy with a standard deviation of 0.006\n"
     ]
    }
   ],
   "source": [
    "clf = make_pipeline(preprocessing.StandardScaler(), svm.SVC(C=1).fit(X_train_transformed, y_train))\n",
    "score = cross_val_score(clf, X, y, cv=cv)\n",
    "print(\"%0.2f accuracy with a standard deviation of %0.3f\" % (score.mean(), score.std()))\n",
    "scoreSVM = score.mean()"
   ]
  },
  {
   "cell_type": "code",
   "execution_count": 47,
   "metadata": {},
   "outputs": [
    {
     "name": "stdout",
     "output_type": "stream",
     "text": [
      "0.88 accuracy with a standard deviation of 0.005\n"
     ]
    }
   ],
   "source": [
    "clf2 = GradientBoostingClassifier(n_estimators=100, learning_rate=1.0,\n",
    "      max_depth=1, random_state=0).fit(X_train, y_train)\n",
    "score2 = cross_val_score(clf2, X, y, cv=cv)\n",
    "print(\"%0.2f accuracy with a standard deviation of %0.3f\" % (score2.mean(), score2.std()))\n",
    "scoreGBC = score2.mean()"
   ]
  },
  {
   "cell_type": "code",
   "execution_count": 48,
   "metadata": {},
   "outputs": [
    {
     "name": "stdout",
     "output_type": "stream",
     "text": [
      "0.86 accuracy with a standard deviation of 0.006\n",
      "(1334, 2)\n"
     ]
    },
    {
     "data": {
      "text/plain": [
       "array([[0.68472456, 0.31527544],\n",
       "       [0.90159646, 0.09840354],\n",
       "       [0.89089783, 0.10910217],\n",
       "       ...,\n",
       "       [0.89386834, 0.10613166],\n",
       "       [0.89503326, 0.10496674],\n",
       "       [0.70114037, 0.29885963]])"
      ]
     },
     "execution_count": 48,
     "metadata": {},
     "output_type": "execute_result"
    }
   ],
   "source": [
    "clf3 = RandomForestClassifier(max_depth=2, random_state=0).fit(X_train, y_train)\n",
    "score3 = cross_val_score(clf3, X, y, cv=cv)\n",
    "print(\"%0.2f accuracy with a standard deviation of %0.3f\" % (score3.mean(), score3.std()))\n",
    "scoreRFC = score3.mean()\n",
    "print(clf3.predict_proba(X_test).shape)\n",
    "clf3.predict_proba(X_test)"
   ]
  },
  {
   "cell_type": "code",
   "execution_count": 49,
   "metadata": {},
   "outputs": [
    {
     "name": "stdout",
     "output_type": "stream",
     "text": [
      "Gradient Boosting Classifier:  0.88\n",
      "Support vector machine(SVM):   0.92\n",
      "Random Forest Classifier:      0.86\n",
      "K Nearest Neighbor Classifier: 0.00\n",
      "Logistic Regression:           0.00\n"
     ]
    }
   ],
   "source": [
    "print('Gradient Boosting Classifier:  {:.2f}'.format(scoreGBC))\n",
    "print('Support vector machine(SVM):   {:.2f}'.format(scoreSVM))\n",
    "print('Random Forest Classifier:      {:.2f}'.format(scoreRFC))\n",
    "print('K Nearest Neighbor Classifier: {:.2f}'.format(0))\n",
    "print('Logistic Regression:           {:.2f}'.format(0))"
   ]
  }
 ],
 "metadata": {
  "kernelspec": {
   "display_name": "Python 3",
   "language": "python",
   "name": "python3"
  },
  "language_info": {
   "codemirror_mode": {
    "name": "ipython",
    "version": 3
   },
   "file_extension": ".py",
   "mimetype": "text/x-python",
   "name": "python",
   "nbconvert_exporter": "python",
   "pygments_lexer": "ipython3",
   "version": "3.7.6"
  }
 },
 "nbformat": 4,
 "nbformat_minor": 4
}
